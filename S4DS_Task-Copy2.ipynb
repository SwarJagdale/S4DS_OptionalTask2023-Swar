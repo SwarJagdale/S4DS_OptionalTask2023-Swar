{
 "cells": [
  {
   "cell_type": "code",
   "execution_count": 1,
   "id": "fd1ed254",
   "metadata": {},
   "outputs": [],
   "source": [
    "import pandas as pd\n",
    "import numpy as np\n",
    "import matplotlib.pyplot as plt\n",
    "import seaborn as sns\n",
    "\n",
    "df=pd.read_csv(\"Amazon_Products.csv\",low_memory=False)"
   ]
  },
  {
   "cell_type": "code",
   "execution_count": 2,
   "id": "fba8b6cf",
   "metadata": {},
   "outputs": [],
   "source": [
    "import warnings\n",
    "warnings.filterwarnings('ignore')"
   ]
  },
  {
   "cell_type": "code",
   "execution_count": 3,
   "id": "869a3e95",
   "metadata": {
    "scrolled": true
   },
   "outputs": [
    {
     "data": {
      "text/plain": [
       "(10004, 895)"
      ]
     },
     "execution_count": 3,
     "metadata": {},
     "output_type": "execute_result"
    }
   ],
   "source": [
    "df.shape"
   ]
  },
  {
   "cell_type": "code",
   "execution_count": 4,
   "id": "e521f449",
   "metadata": {},
   "outputs": [
    {
     "data": {
      "text/html": [
       "<div>\n",
       "<style scoped>\n",
       "    .dataframe tbody tr th:only-of-type {\n",
       "        vertical-align: middle;\n",
       "    }\n",
       "\n",
       "    .dataframe tbody tr th {\n",
       "        vertical-align: top;\n",
       "    }\n",
       "\n",
       "    .dataframe thead th {\n",
       "        text-align: right;\n",
       "    }\n",
       "</style>\n",
       "<table border=\"1\" class=\"dataframe\">\n",
       "  <thead>\n",
       "    <tr style=\"text-align: right;\">\n",
       "      <th></th>\n",
       "      <th>uniq_id</th>\n",
       "      <th>product_name</th>\n",
       "      <th>manufacturer</th>\n",
       "      <th>price</th>\n",
       "      <th>number_available_in_stock</th>\n",
       "      <th>number_of_reviews</th>\n",
       "      <th>number_of_answered_questions</th>\n",
       "      <th>average_review_rating</th>\n",
       "      <th>amazon_category_and_sub_category</th>\n",
       "      <th>description</th>\n",
       "      <th>...</th>\n",
       "      <th>Unnamed: 885</th>\n",
       "      <th>Unnamed: 886</th>\n",
       "      <th>Unnamed: 887</th>\n",
       "      <th>Unnamed: 888</th>\n",
       "      <th>Unnamed: 889</th>\n",
       "      <th>Unnamed: 890</th>\n",
       "      <th>Unnamed: 891</th>\n",
       "      <th>Unnamed: 892</th>\n",
       "      <th>Unnamed: 893</th>\n",
       "      <th>Unnamed: 894</th>\n",
       "    </tr>\n",
       "  </thead>\n",
       "  <tbody>\n",
       "    <tr>\n",
       "      <th>0</th>\n",
       "      <td>eac7efa5dbd3d667f26eb3d3ab504464</td>\n",
       "      <td>Hornby 2014 Catalogue</td>\n",
       "      <td>Hornby</td>\n",
       "      <td>£3.42</td>\n",
       "      <td>5 new</td>\n",
       "      <td>15</td>\n",
       "      <td>1</td>\n",
       "      <td>4.9 out of 5 stars</td>\n",
       "      <td>Hobbies &gt; Model Trains &amp; Railway Sets &gt; Rail V...</td>\n",
       "      <td>Product Description Hornby 2014 Catalogue Box ...</td>\n",
       "      <td>...</td>\n",
       "      <td>NaN</td>\n",
       "      <td>NaN</td>\n",
       "      <td>NaN</td>\n",
       "      <td>NaN</td>\n",
       "      <td>NaN</td>\n",
       "      <td>NaN</td>\n",
       "      <td>NaN</td>\n",
       "      <td>NaN</td>\n",
       "      <td>NaN</td>\n",
       "      <td>NaN</td>\n",
       "    </tr>\n",
       "    <tr>\n",
       "      <th>1</th>\n",
       "      <td>b17540ef7e86e461d37f3ae58b7b72ac</td>\n",
       "      <td>FunkyBuys® Large Christmas Holiday Express Fes...</td>\n",
       "      <td>FunkyBuys</td>\n",
       "      <td>£16.99</td>\n",
       "      <td>NaN</td>\n",
       "      <td>2</td>\n",
       "      <td>1</td>\n",
       "      <td>4.5 out of 5 stars</td>\n",
       "      <td>Hobbies &gt; Model Trains &amp; Railway Sets &gt; Rail V...</td>\n",
       "      <td>Size Name:Large FunkyBuys® Large Christmas Hol...</td>\n",
       "      <td>...</td>\n",
       "      <td>NaN</td>\n",
       "      <td>NaN</td>\n",
       "      <td>NaN</td>\n",
       "      <td>NaN</td>\n",
       "      <td>NaN</td>\n",
       "      <td>NaN</td>\n",
       "      <td>NaN</td>\n",
       "      <td>NaN</td>\n",
       "      <td>NaN</td>\n",
       "      <td>NaN</td>\n",
       "    </tr>\n",
       "    <tr>\n",
       "      <th>2</th>\n",
       "      <td>348f344247b0c1a935b1223072ef9d8a</td>\n",
       "      <td>CLASSIC TOY TRAIN SET TRACK CARRIAGES LIGHT EN...</td>\n",
       "      <td>ccf</td>\n",
       "      <td>£9.99</td>\n",
       "      <td>2 new</td>\n",
       "      <td>17</td>\n",
       "      <td>2</td>\n",
       "      <td>3.9 out of 5 stars</td>\n",
       "      <td>Hobbies &gt; Model Trains &amp; Railway Sets &gt; Rail V...</td>\n",
       "      <td>BIG CLASSIC TOY TRAIN SET TRACK CARRIAGE LIGHT...</td>\n",
       "      <td>...</td>\n",
       "      <td>NaN</td>\n",
       "      <td>NaN</td>\n",
       "      <td>NaN</td>\n",
       "      <td>NaN</td>\n",
       "      <td>NaN</td>\n",
       "      <td>NaN</td>\n",
       "      <td>NaN</td>\n",
       "      <td>NaN</td>\n",
       "      <td>NaN</td>\n",
       "      <td>NaN</td>\n",
       "    </tr>\n",
       "    <tr>\n",
       "      <th>3</th>\n",
       "      <td>e12b92dbb8eaee78b22965d2a9bbbd9f</td>\n",
       "      <td>HORNBY Coach R4410A BR Hawksworth Corridor 3rd</td>\n",
       "      <td>Hornby</td>\n",
       "      <td>£39.99</td>\n",
       "      <td>NaN</td>\n",
       "      <td>1</td>\n",
       "      <td>2</td>\n",
       "      <td>5.0 out of 5 stars</td>\n",
       "      <td>Hobbies &gt; Model Trains &amp; Railway Sets &gt; Rail V...</td>\n",
       "      <td>Hornby 00 Gauge BR Hawksworth 3rd Class W 2107...</td>\n",
       "      <td>...</td>\n",
       "      <td>NaN</td>\n",
       "      <td>NaN</td>\n",
       "      <td>NaN</td>\n",
       "      <td>NaN</td>\n",
       "      <td>NaN</td>\n",
       "      <td>NaN</td>\n",
       "      <td>NaN</td>\n",
       "      <td>NaN</td>\n",
       "      <td>NaN</td>\n",
       "      <td>NaN</td>\n",
       "    </tr>\n",
       "    <tr>\n",
       "      <th>4</th>\n",
       "      <td>e33a9adeed5f36840ccc227db4682a36</td>\n",
       "      <td>Hornby 00 Gauge 0-4-0 Gildenlow Salt Co. Steam...</td>\n",
       "      <td>Hornby</td>\n",
       "      <td>£32.19</td>\n",
       "      <td>NaN</td>\n",
       "      <td>3</td>\n",
       "      <td>2</td>\n",
       "      <td>4.7 out of 5 stars</td>\n",
       "      <td>Hobbies &gt; Model Trains &amp; Railway Sets &gt; Rail V...</td>\n",
       "      <td>Product Description Hornby RailRoad 0-4-0 Gild...</td>\n",
       "      <td>...</td>\n",
       "      <td>NaN</td>\n",
       "      <td>NaN</td>\n",
       "      <td>NaN</td>\n",
       "      <td>NaN</td>\n",
       "      <td>NaN</td>\n",
       "      <td>NaN</td>\n",
       "      <td>NaN</td>\n",
       "      <td>NaN</td>\n",
       "      <td>NaN</td>\n",
       "      <td>NaN</td>\n",
       "    </tr>\n",
       "  </tbody>\n",
       "</table>\n",
       "<p>5 rows × 895 columns</p>\n",
       "</div>"
      ],
      "text/plain": [
       "                            uniq_id  \\\n",
       "0  eac7efa5dbd3d667f26eb3d3ab504464   \n",
       "1  b17540ef7e86e461d37f3ae58b7b72ac   \n",
       "2  348f344247b0c1a935b1223072ef9d8a   \n",
       "3  e12b92dbb8eaee78b22965d2a9bbbd9f   \n",
       "4  e33a9adeed5f36840ccc227db4682a36   \n",
       "\n",
       "                                        product_name manufacturer   price  \\\n",
       "0                              Hornby 2014 Catalogue       Hornby   £3.42   \n",
       "1  FunkyBuys® Large Christmas Holiday Express Fes...    FunkyBuys  £16.99   \n",
       "2  CLASSIC TOY TRAIN SET TRACK CARRIAGES LIGHT EN...          ccf   £9.99   \n",
       "3     HORNBY Coach R4410A BR Hawksworth Corridor 3rd       Hornby  £39.99   \n",
       "4  Hornby 00 Gauge 0-4-0 Gildenlow Salt Co. Steam...       Hornby  £32.19   \n",
       "\n",
       "  number_available_in_stock number_of_reviews number_of_answered_questions  \\\n",
       "0                     5 new                15                            1   \n",
       "1                       NaN                 2                            1   \n",
       "2                     2 new                17                            2   \n",
       "3                       NaN                 1                            2   \n",
       "4                       NaN                 3                            2   \n",
       "\n",
       "  average_review_rating                   amazon_category_and_sub_category  \\\n",
       "0    4.9 out of 5 stars  Hobbies > Model Trains & Railway Sets > Rail V...   \n",
       "1    4.5 out of 5 stars  Hobbies > Model Trains & Railway Sets > Rail V...   \n",
       "2    3.9 out of 5 stars  Hobbies > Model Trains & Railway Sets > Rail V...   \n",
       "3    5.0 out of 5 stars  Hobbies > Model Trains & Railway Sets > Rail V...   \n",
       "4    4.7 out of 5 stars  Hobbies > Model Trains & Railway Sets > Rail V...   \n",
       "\n",
       "                                         description  ... Unnamed: 885  \\\n",
       "0  Product Description Hornby 2014 Catalogue Box ...  ...          NaN   \n",
       "1  Size Name:Large FunkyBuys® Large Christmas Hol...  ...          NaN   \n",
       "2  BIG CLASSIC TOY TRAIN SET TRACK CARRIAGE LIGHT...  ...          NaN   \n",
       "3  Hornby 00 Gauge BR Hawksworth 3rd Class W 2107...  ...          NaN   \n",
       "4  Product Description Hornby RailRoad 0-4-0 Gild...  ...          NaN   \n",
       "\n",
       "  Unnamed: 886 Unnamed: 887 Unnamed: 888 Unnamed: 889 Unnamed: 890  \\\n",
       "0          NaN          NaN          NaN          NaN          NaN   \n",
       "1          NaN          NaN          NaN          NaN          NaN   \n",
       "2          NaN          NaN          NaN          NaN          NaN   \n",
       "3          NaN          NaN          NaN          NaN          NaN   \n",
       "4          NaN          NaN          NaN          NaN          NaN   \n",
       "\n",
       "  Unnamed: 891 Unnamed: 892 Unnamed: 893 Unnamed: 894  \n",
       "0          NaN          NaN          NaN          NaN  \n",
       "1          NaN          NaN          NaN          NaN  \n",
       "2          NaN          NaN          NaN          NaN  \n",
       "3          NaN          NaN          NaN          NaN  \n",
       "4          NaN          NaN          NaN          NaN  \n",
       "\n",
       "[5 rows x 895 columns]"
      ]
     },
     "execution_count": 4,
     "metadata": {},
     "output_type": "execute_result"
    }
   ],
   "source": [
    "df.head()"
   ]
  },
  {
   "cell_type": "code",
   "execution_count": 5,
   "id": "4e5806c9",
   "metadata": {},
   "outputs": [],
   "source": [
    "drop_in=[]\n",
    "for i in range(0,895):\n",
    "\n",
    "    if(df[df.columns[i]].isna().sum()>5000):\n",
    "        drop_in.append(i)\n",
    "df = df.drop(df.columns[drop_in],axis = 1)\n",
    "df.reset_index(drop=True, inplace=True)"
   ]
  },
  {
   "cell_type": "code",
   "execution_count": 6,
   "id": "23fb001a",
   "metadata": {},
   "outputs": [
    {
     "data": {
      "text/html": [
       "<div>\n",
       "<style scoped>\n",
       "    .dataframe tbody tr th:only-of-type {\n",
       "        vertical-align: middle;\n",
       "    }\n",
       "\n",
       "    .dataframe tbody tr th {\n",
       "        vertical-align: top;\n",
       "    }\n",
       "\n",
       "    .dataframe thead th {\n",
       "        text-align: right;\n",
       "    }\n",
       "</style>\n",
       "<table border=\"1\" class=\"dataframe\">\n",
       "  <thead>\n",
       "    <tr style=\"text-align: right;\">\n",
       "      <th></th>\n",
       "      <th>uniq_id</th>\n",
       "      <th>product_name</th>\n",
       "      <th>manufacturer</th>\n",
       "      <th>price</th>\n",
       "      <th>number_available_in_stock</th>\n",
       "      <th>number_of_reviews</th>\n",
       "      <th>number_of_answered_questions</th>\n",
       "      <th>average_review_rating</th>\n",
       "      <th>amazon_category_and_sub_category</th>\n",
       "      <th>description</th>\n",
       "      <th>product_information</th>\n",
       "      <th>product_description</th>\n",
       "      <th>items_customers_buy_after_viewing_this_item</th>\n",
       "    </tr>\n",
       "  </thead>\n",
       "  <tbody>\n",
       "    <tr>\n",
       "      <th>0</th>\n",
       "      <td>eac7efa5dbd3d667f26eb3d3ab504464</td>\n",
       "      <td>Hornby 2014 Catalogue</td>\n",
       "      <td>Hornby</td>\n",
       "      <td>£3.42</td>\n",
       "      <td>5 new</td>\n",
       "      <td>15</td>\n",
       "      <td>1</td>\n",
       "      <td>4.9 out of 5 stars</td>\n",
       "      <td>Hobbies &gt; Model Trains &amp; Railway Sets &gt; Rail V...</td>\n",
       "      <td>Product Description Hornby 2014 Catalogue Box ...</td>\n",
       "      <td>Technical Details Item Weight640 g Product Dim...</td>\n",
       "      <td>Product Description Hornby 2014 Catalogue Box ...</td>\n",
       "      <td>http://www.amazon.co.uk/Hornby-R8150-Catalogue...</td>\n",
       "    </tr>\n",
       "    <tr>\n",
       "      <th>1</th>\n",
       "      <td>b17540ef7e86e461d37f3ae58b7b72ac</td>\n",
       "      <td>FunkyBuys® Large Christmas Holiday Express Fes...</td>\n",
       "      <td>FunkyBuys</td>\n",
       "      <td>£16.99</td>\n",
       "      <td>NaN</td>\n",
       "      <td>2</td>\n",
       "      <td>1</td>\n",
       "      <td>4.5 out of 5 stars</td>\n",
       "      <td>Hobbies &gt; Model Trains &amp; Railway Sets &gt; Rail V...</td>\n",
       "      <td>Size Name:Large FunkyBuys® Large Christmas Hol...</td>\n",
       "      <td>Technical Details Manufacturer recommended age...</td>\n",
       "      <td>Size Name:Large FunkyBuys® Large Christmas Hol...</td>\n",
       "      <td>http://www.amazon.co.uk/Christmas-Holiday-Expr...</td>\n",
       "    </tr>\n",
       "    <tr>\n",
       "      <th>2</th>\n",
       "      <td>348f344247b0c1a935b1223072ef9d8a</td>\n",
       "      <td>CLASSIC TOY TRAIN SET TRACK CARRIAGES LIGHT EN...</td>\n",
       "      <td>ccf</td>\n",
       "      <td>£9.99</td>\n",
       "      <td>2 new</td>\n",
       "      <td>17</td>\n",
       "      <td>2</td>\n",
       "      <td>3.9 out of 5 stars</td>\n",
       "      <td>Hobbies &gt; Model Trains &amp; Railway Sets &gt; Rail V...</td>\n",
       "      <td>BIG CLASSIC TOY TRAIN SET TRACK CARRIAGE LIGHT...</td>\n",
       "      <td>Technical Details Manufacturer recommended age...</td>\n",
       "      <td>BIG CLASSIC TOY TRAIN SET TRACK CARRIAGE LIGHT...</td>\n",
       "      <td>http://www.amazon.co.uk/Train-With-Tracks-Batt...</td>\n",
       "    </tr>\n",
       "    <tr>\n",
       "      <th>3</th>\n",
       "      <td>e12b92dbb8eaee78b22965d2a9bbbd9f</td>\n",
       "      <td>HORNBY Coach R4410A BR Hawksworth Corridor 3rd</td>\n",
       "      <td>Hornby</td>\n",
       "      <td>£39.99</td>\n",
       "      <td>NaN</td>\n",
       "      <td>1</td>\n",
       "      <td>2</td>\n",
       "      <td>5.0 out of 5 stars</td>\n",
       "      <td>Hobbies &gt; Model Trains &amp; Railway Sets &gt; Rail V...</td>\n",
       "      <td>Hornby 00 Gauge BR Hawksworth 3rd Class W 2107...</td>\n",
       "      <td>Technical Details Item Weight259 g Product Dim...</td>\n",
       "      <td>Hornby 00 Gauge BR Hawksworth 3rd Class W 2107...</td>\n",
       "      <td>NaN</td>\n",
       "    </tr>\n",
       "    <tr>\n",
       "      <th>4</th>\n",
       "      <td>e33a9adeed5f36840ccc227db4682a36</td>\n",
       "      <td>Hornby 00 Gauge 0-4-0 Gildenlow Salt Co. Steam...</td>\n",
       "      <td>Hornby</td>\n",
       "      <td>£32.19</td>\n",
       "      <td>NaN</td>\n",
       "      <td>3</td>\n",
       "      <td>2</td>\n",
       "      <td>4.7 out of 5 stars</td>\n",
       "      <td>Hobbies &gt; Model Trains &amp; Railway Sets &gt; Rail V...</td>\n",
       "      <td>Product Description Hornby RailRoad 0-4-0 Gild...</td>\n",
       "      <td>Technical Details Item Weight159 g Product Dim...</td>\n",
       "      <td>Product Description Hornby RailRoad 0-4-0 Gild...</td>\n",
       "      <td>http://www.amazon.co.uk/Hornby-R2672-RailRoad-...</td>\n",
       "    </tr>\n",
       "    <tr>\n",
       "      <th>...</th>\n",
       "      <td>...</td>\n",
       "      <td>...</td>\n",
       "      <td>...</td>\n",
       "      <td>...</td>\n",
       "      <td>...</td>\n",
       "      <td>...</td>\n",
       "      <td>...</td>\n",
       "      <td>...</td>\n",
       "      <td>...</td>\n",
       "      <td>...</td>\n",
       "      <td>...</td>\n",
       "      <td>...</td>\n",
       "      <td>...</td>\n",
       "    </tr>\n",
       "    <tr>\n",
       "      <th>9999</th>\n",
       "      <td>44d6967f083825a5de36ad4865a65bcd</td>\n",
       "      <td>Batman 1966 TV Series Action Figures - The Rid...</td>\n",
       "      <td>Mattel</td>\n",
       "      <td>£22.95</td>\n",
       "      <td>5 new</td>\n",
       "      <td>3</td>\n",
       "      <td>3</td>\n",
       "      <td>5.0 out of 5 stars</td>\n",
       "      <td>Hobbies &gt; Collectible Figures &amp; Memorabilia &gt; ...</td>\n",
       "      <td>DC 66 Batman Classic TV Series 6 Inch Riddler ...</td>\n",
       "      <td>Technical Details Item Weight136 g Product Dim...</td>\n",
       "      <td>DC 66 Batman Classic TV Series 6 Inch Riddler ...</td>\n",
       "      <td>NaN</td>\n",
       "    </tr>\n",
       "    <tr>\n",
       "      <th>10000</th>\n",
       "      <td>08f0747b6fc6687215ffb994c3a6fb32</td>\n",
       "      <td>Star Wars Costume, Kids Stormtrooper Costume S...</td>\n",
       "      <td>Star Wars</td>\n",
       "      <td>£39.99</td>\n",
       "      <td>NaN</td>\n",
       "      <td>1</td>\n",
       "      <td>3</td>\n",
       "      <td>4.0 out of 5 stars</td>\n",
       "      <td>Characters &amp; Brands &gt; Star Wars &gt; Toys</td>\n",
       "      <td>NaN</td>\n",
       "      <td>Technical Details    Additional Information AS...</td>\n",
       "      <td>NaN</td>\n",
       "      <td>http://www.amazon.co.uk/Storm-Trooper-Costume-...</td>\n",
       "    </tr>\n",
       "    <tr>\n",
       "      <th>10001</th>\n",
       "      <td>bf6cc073f8f24e6e338190fa16f6ee9d</td>\n",
       "      <td>Defiance Lawkeeper Metal Badge Prop Replica</td>\n",
       "      <td>Olde Scotland Yard Ltd.</td>\n",
       "      <td>£43.99</td>\n",
       "      <td>3 new</td>\n",
       "      <td>1</td>\n",
       "      <td>3</td>\n",
       "      <td>5.0 out of 5 stars</td>\n",
       "      <td>Novelty &amp; Special Use &gt; Novelty &gt; Accessories ...</td>\n",
       "      <td>*Includes 1x Badge with holder and chain *High...</td>\n",
       "      <td>Technical Details Item Weight159 g Product Dim...</td>\n",
       "      <td>*Includes 1x Badge with holder and chain *High...</td>\n",
       "      <td>http://www.amazon.co.uk/Olde-Scotland-Yard-Ltd...</td>\n",
       "    </tr>\n",
       "    <tr>\n",
       "      <th>10002</th>\n",
       "      <td>cd783d0b8b44e631b9788b203eaaefae</td>\n",
       "      <td>Justice League of America Series 3 Green Lante...</td>\n",
       "      <td>DC Comics</td>\n",
       "      <td>£49.81</td>\n",
       "      <td>3 new</td>\n",
       "      <td>1</td>\n",
       "      <td>3</td>\n",
       "      <td>5.0 out of 5 stars</td>\n",
       "      <td>Hobbies &gt; Collectible Figures &amp; Memorabilia &gt; ...</td>\n",
       "      <td>Designed by Ed BenesIt's here - the third seri...</td>\n",
       "      <td>Technical Details Item Weight181 g Product Dim...</td>\n",
       "      <td>Designed by Ed BenesIt's here - the third seri...</td>\n",
       "      <td>NaN</td>\n",
       "    </tr>\n",
       "    <tr>\n",
       "      <th>10003</th>\n",
       "      <td>94d18e86e504bee1e392df7e5738b18a</td>\n",
       "      <td>Star Wars 1/72 Y-Wing Starfighter</td>\n",
       "      <td>Bandai</td>\n",
       "      <td>£21.20</td>\n",
       "      <td>31 new</td>\n",
       "      <td>11</td>\n",
       "      <td>3</td>\n",
       "      <td>4.5 out of 5 stars</td>\n",
       "      <td>Characters &amp; Brands &gt; Star Wars &gt; Toys</td>\n",
       "      <td>NaN</td>\n",
       "      <td>Technical Details Item Weight299 g Product Dim...</td>\n",
       "      <td>NaN</td>\n",
       "      <td>NaN</td>\n",
       "    </tr>\n",
       "  </tbody>\n",
       "</table>\n",
       "<p>10004 rows × 13 columns</p>\n",
       "</div>"
      ],
      "text/plain": [
       "                                uniq_id  \\\n",
       "0      eac7efa5dbd3d667f26eb3d3ab504464   \n",
       "1      b17540ef7e86e461d37f3ae58b7b72ac   \n",
       "2      348f344247b0c1a935b1223072ef9d8a   \n",
       "3      e12b92dbb8eaee78b22965d2a9bbbd9f   \n",
       "4      e33a9adeed5f36840ccc227db4682a36   \n",
       "...                                 ...   \n",
       "9999   44d6967f083825a5de36ad4865a65bcd   \n",
       "10000  08f0747b6fc6687215ffb994c3a6fb32   \n",
       "10001  bf6cc073f8f24e6e338190fa16f6ee9d   \n",
       "10002  cd783d0b8b44e631b9788b203eaaefae   \n",
       "10003  94d18e86e504bee1e392df7e5738b18a   \n",
       "\n",
       "                                            product_name  \\\n",
       "0                                  Hornby 2014 Catalogue   \n",
       "1      FunkyBuys® Large Christmas Holiday Express Fes...   \n",
       "2      CLASSIC TOY TRAIN SET TRACK CARRIAGES LIGHT EN...   \n",
       "3         HORNBY Coach R4410A BR Hawksworth Corridor 3rd   \n",
       "4      Hornby 00 Gauge 0-4-0 Gildenlow Salt Co. Steam...   \n",
       "...                                                  ...   \n",
       "9999   Batman 1966 TV Series Action Figures - The Rid...   \n",
       "10000  Star Wars Costume, Kids Stormtrooper Costume S...   \n",
       "10001        Defiance Lawkeeper Metal Badge Prop Replica   \n",
       "10002  Justice League of America Series 3 Green Lante...   \n",
       "10003                  Star Wars 1/72 Y-Wing Starfighter   \n",
       "\n",
       "                  manufacturer   price number_available_in_stock  \\\n",
       "0                       Hornby   £3.42                     5 new   \n",
       "1                    FunkyBuys  £16.99                       NaN   \n",
       "2                          ccf   £9.99                     2 new   \n",
       "3                       Hornby  £39.99                       NaN   \n",
       "4                       Hornby  £32.19                       NaN   \n",
       "...                        ...     ...                       ...   \n",
       "9999                    Mattel  £22.95                     5 new   \n",
       "10000                Star Wars  £39.99                       NaN   \n",
       "10001  Olde Scotland Yard Ltd.  £43.99                     3 new   \n",
       "10002                DC Comics  £49.81                     3 new   \n",
       "10003                   Bandai  £21.20                    31 new   \n",
       "\n",
       "      number_of_reviews number_of_answered_questions average_review_rating  \\\n",
       "0                    15                            1    4.9 out of 5 stars   \n",
       "1                     2                            1    4.5 out of 5 stars   \n",
       "2                    17                            2    3.9 out of 5 stars   \n",
       "3                     1                            2    5.0 out of 5 stars   \n",
       "4                     3                            2    4.7 out of 5 stars   \n",
       "...                 ...                          ...                   ...   \n",
       "9999                  3                            3    5.0 out of 5 stars   \n",
       "10000                 1                            3    4.0 out of 5 stars   \n",
       "10001                 1                            3    5.0 out of 5 stars   \n",
       "10002                 1                            3    5.0 out of 5 stars   \n",
       "10003                11                            3    4.5 out of 5 stars   \n",
       "\n",
       "                        amazon_category_and_sub_category  \\\n",
       "0      Hobbies > Model Trains & Railway Sets > Rail V...   \n",
       "1      Hobbies > Model Trains & Railway Sets > Rail V...   \n",
       "2      Hobbies > Model Trains & Railway Sets > Rail V...   \n",
       "3      Hobbies > Model Trains & Railway Sets > Rail V...   \n",
       "4      Hobbies > Model Trains & Railway Sets > Rail V...   \n",
       "...                                                  ...   \n",
       "9999   Hobbies > Collectible Figures & Memorabilia > ...   \n",
       "10000             Characters & Brands > Star Wars > Toys   \n",
       "10001  Novelty & Special Use > Novelty > Accessories ...   \n",
       "10002  Hobbies > Collectible Figures & Memorabilia > ...   \n",
       "10003             Characters & Brands > Star Wars > Toys   \n",
       "\n",
       "                                             description  \\\n",
       "0      Product Description Hornby 2014 Catalogue Box ...   \n",
       "1      Size Name:Large FunkyBuys® Large Christmas Hol...   \n",
       "2      BIG CLASSIC TOY TRAIN SET TRACK CARRIAGE LIGHT...   \n",
       "3      Hornby 00 Gauge BR Hawksworth 3rd Class W 2107...   \n",
       "4      Product Description Hornby RailRoad 0-4-0 Gild...   \n",
       "...                                                  ...   \n",
       "9999   DC 66 Batman Classic TV Series 6 Inch Riddler ...   \n",
       "10000                                                NaN   \n",
       "10001  *Includes 1x Badge with holder and chain *High...   \n",
       "10002  Designed by Ed BenesIt's here - the third seri...   \n",
       "10003                                                NaN   \n",
       "\n",
       "                                     product_information  \\\n",
       "0      Technical Details Item Weight640 g Product Dim...   \n",
       "1      Technical Details Manufacturer recommended age...   \n",
       "2      Technical Details Manufacturer recommended age...   \n",
       "3      Technical Details Item Weight259 g Product Dim...   \n",
       "4      Technical Details Item Weight159 g Product Dim...   \n",
       "...                                                  ...   \n",
       "9999   Technical Details Item Weight136 g Product Dim...   \n",
       "10000  Technical Details    Additional Information AS...   \n",
       "10001  Technical Details Item Weight159 g Product Dim...   \n",
       "10002  Technical Details Item Weight181 g Product Dim...   \n",
       "10003  Technical Details Item Weight299 g Product Dim...   \n",
       "\n",
       "                                     product_description  \\\n",
       "0      Product Description Hornby 2014 Catalogue Box ...   \n",
       "1      Size Name:Large FunkyBuys® Large Christmas Hol...   \n",
       "2      BIG CLASSIC TOY TRAIN SET TRACK CARRIAGE LIGHT...   \n",
       "3      Hornby 00 Gauge BR Hawksworth 3rd Class W 2107...   \n",
       "4      Product Description Hornby RailRoad 0-4-0 Gild...   \n",
       "...                                                  ...   \n",
       "9999   DC 66 Batman Classic TV Series 6 Inch Riddler ...   \n",
       "10000                                                NaN   \n",
       "10001  *Includes 1x Badge with holder and chain *High...   \n",
       "10002  Designed by Ed BenesIt's here - the third seri...   \n",
       "10003                                                NaN   \n",
       "\n",
       "             items_customers_buy_after_viewing_this_item  \n",
       "0      http://www.amazon.co.uk/Hornby-R8150-Catalogue...  \n",
       "1      http://www.amazon.co.uk/Christmas-Holiday-Expr...  \n",
       "2      http://www.amazon.co.uk/Train-With-Tracks-Batt...  \n",
       "3                                                    NaN  \n",
       "4      http://www.amazon.co.uk/Hornby-R2672-RailRoad-...  \n",
       "...                                                  ...  \n",
       "9999                                                 NaN  \n",
       "10000  http://www.amazon.co.uk/Storm-Trooper-Costume-...  \n",
       "10001  http://www.amazon.co.uk/Olde-Scotland-Yard-Ltd...  \n",
       "10002                                                NaN  \n",
       "10003                                                NaN  \n",
       "\n",
       "[10004 rows x 13 columns]"
      ]
     },
     "execution_count": 6,
     "metadata": {},
     "output_type": "execute_result"
    }
   ],
   "source": [
    "df"
   ]
  },
  {
   "cell_type": "code",
   "execution_count": 7,
   "id": "9cc22365",
   "metadata": {},
   "outputs": [
    {
     "data": {
      "text/plain": [
       "uniq_id                                           2\n",
       "product_name                                      2\n",
       "manufacturer                                      9\n",
       "price                                          1437\n",
       "number_available_in_stock                      2502\n",
       "number_of_reviews                                20\n",
       "number_of_answered_questions                    767\n",
       "average_review_rating                            20\n",
       "amazon_category_and_sub_category                692\n",
       "description                                     653\n",
       "product_information                              61\n",
       "product_description                             654\n",
       "items_customers_buy_after_viewing_this_item    3068\n",
       "dtype: int64"
      ]
     },
     "execution_count": 7,
     "metadata": {},
     "output_type": "execute_result"
    }
   ],
   "source": [
    "df.isna().sum()"
   ]
  },
  {
   "cell_type": "code",
   "execution_count": 8,
   "id": "9d92df96",
   "metadata": {},
   "outputs": [],
   "source": [
    "df.drop([2002,2004],inplace=True)\n",
    "df.reset_index(drop=True, inplace=True)"
   ]
  },
  {
   "cell_type": "code",
   "execution_count": 9,
   "id": "f9a38a9b",
   "metadata": {},
   "outputs": [],
   "source": [
    "def ReturnFirstValuePrice(value):\n",
    "    value=value.split()\n",
    "    values=value[0][1:-1]\n",
    "    return values\n",
    "def ReturnFirstValue(value):\n",
    "    value=value.split()\n",
    "    values=value[0]\n",
    "    return values\n",
    "def ReturnLastValue(value):\n",
    "    value=value.split()\n",
    "    values=value[-1]\n",
    "    return values"
   ]
  },
  {
   "cell_type": "code",
   "execution_count": 10,
   "id": "ac000998",
   "metadata": {},
   "outputs": [],
   "source": [
    "def FloatChecker(array):\n",
    "    flag=0\n",
    "    for i in range(0,len(array)):\n",
    "        try:\n",
    "            array[i]=float(array[i])\n",
    "        except:\n",
    "            print(i)\n",
    "            print(array[i])\n",
    "            flag+=1\n",
    "    if(flag==0):\n",
    "        print(\"Ready to be converted to float\")"
   ]
  },
  {
   "cell_type": "code",
   "execution_count": 11,
   "id": "786ab023",
   "metadata": {},
   "outputs": [],
   "source": [
    "def AllTermsShower(array):\n",
    "    for i in range(0,len(array)):\n",
    "        print(array[i])"
   ]
  },
  {
   "cell_type": "code",
   "execution_count": 12,
   "id": "66519deb",
   "metadata": {
    "scrolled": true
   },
   "outputs": [
    {
     "data": {
      "text/plain": [
       "Index(['uniq_id', 'product_name', 'manufacturer', 'price',\n",
       "       'number_available_in_stock', 'number_of_reviews',\n",
       "       'number_of_answered_questions', 'average_review_rating',\n",
       "       'amazon_category_and_sub_category', 'description',\n",
       "       'product_information', 'product_description',\n",
       "       'items_customers_buy_after_viewing_this_item'],\n",
       "      dtype='object')"
      ]
     },
     "execution_count": 12,
     "metadata": {},
     "output_type": "execute_result"
    }
   ],
   "source": [
    "df.columns"
   ]
  },
  {
   "cell_type": "markdown",
   "id": "b9586602",
   "metadata": {},
   "source": [
    "## Price Column Handling\n"
   ]
  },
  {
   "cell_type": "code",
   "execution_count": 13,
   "id": "c6363b84",
   "metadata": {},
   "outputs": [],
   "source": [
    "df.price=df.price.astype(str)\n",
    "\n",
    "#df.dropna(subset='price',inplace=True)\n",
    "#df.reset_index(drop=True, inplace=True)\n",
    "df.price=df.price.apply(ReturnFirstValue)\n"
   ]
  },
  {
   "cell_type": "code",
   "execution_count": 14,
   "id": "2adfeab6",
   "metadata": {
    "scrolled": true
   },
   "outputs": [
    {
     "data": {
      "text/plain": [
       "0         £3.42\n",
       "1        £16.99\n",
       "2         £9.99\n",
       "3        £39.99\n",
       "4        £32.19\n",
       "          ...  \n",
       "9997     £22.95\n",
       "9998     £39.99\n",
       "9999     £43.99\n",
       "10000    £49.81\n",
       "10001    £21.20\n",
       "Name: price, Length: 10002, dtype: object"
      ]
     },
     "execution_count": 14,
     "metadata": {},
     "output_type": "execute_result"
    }
   ],
   "source": [
    "df.price"
   ]
  },
  {
   "cell_type": "code",
   "execution_count": 15,
   "id": "170cdc35",
   "metadata": {},
   "outputs": [],
   "source": [
    "df.price=df.price.apply(ReturnFirstValuePrice)"
   ]
  },
  {
   "cell_type": "code",
   "execution_count": 16,
   "id": "29b9feaa",
   "metadata": {
    "scrolled": true
   },
   "outputs": [
    {
     "data": {
      "text/plain": [
       "Int64Index([   9,   14,   15,   16,   17,   25,   27,   28,   33,   38,\n",
       "            ...\n",
       "            9928, 9929, 9932, 9936, 9941, 9954, 9971, 9978, 9985, 9986],\n",
       "           dtype='int64', length=1435)"
      ]
     },
     "execution_count": 16,
     "metadata": {},
     "output_type": "execute_result"
    }
   ],
   "source": [
    "null_price=df[(df['price']==\"a\")].index\n",
    "null_price"
   ]
  },
  {
   "cell_type": "code",
   "execution_count": 17,
   "id": "c967ba5e",
   "metadata": {
    "scrolled": true
   },
   "outputs": [],
   "source": [
    "non_null_price=df[(df.price.notna())].index"
   ]
  },
  {
   "cell_type": "code",
   "execution_count": 18,
   "id": "0f668c51",
   "metadata": {},
   "outputs": [],
   "source": [
    "df.price[null_price]=np.nan"
   ]
  },
  {
   "cell_type": "code",
   "execution_count": 19,
   "id": "8b4ae81d",
   "metadata": {
    "scrolled": true
   },
   "outputs": [
    {
     "name": "stdout",
     "output_type": "stream",
     "text": [
      "2002\n",
      "\"\"subtext\"\":\"\"\n",
      "2003\n",
      "\"\"subtext\"\":\"\"\n",
      "7096\n",
      "2,439.9\n"
     ]
    }
   ],
   "source": [
    "FloatChecker(df.price)"
   ]
  },
  {
   "cell_type": "code",
   "execution_count": 20,
   "id": "1676146c",
   "metadata": {},
   "outputs": [],
   "source": [
    "df.price[2002]=np.nan\n",
    "df.price[2003]=np.nan\n",
    "df.price[7096]=float(2439.9)"
   ]
  },
  {
   "cell_type": "code",
   "execution_count": 21,
   "id": "0db503cf",
   "metadata": {},
   "outputs": [
    {
     "name": "stdout",
     "output_type": "stream",
     "text": [
      "Ready to be converted to float\n"
     ]
    }
   ],
   "source": [
    "FloatChecker(df.price)"
   ]
  },
  {
   "cell_type": "code",
   "execution_count": 22,
   "id": "a1560511",
   "metadata": {},
   "outputs": [],
   "source": [
    "df.price=df.price.astype(float)"
   ]
  },
  {
   "cell_type": "code",
   "execution_count": 23,
   "id": "0b444211",
   "metadata": {},
   "outputs": [],
   "source": [
    "df.price[(df.price==0)]=np.nan"
   ]
  },
  {
   "cell_type": "code",
   "execution_count": 24,
   "id": "75d4d836",
   "metadata": {
    "scrolled": true
   },
   "outputs": [
    {
     "data": {
      "text/plain": [
       "21.41156903996521"
      ]
     },
     "execution_count": 24,
     "metadata": {},
     "output_type": "execute_result"
    }
   ],
   "source": [
    "df.price.skew()"
   ]
  },
  {
   "cell_type": "code",
   "execution_count": 25,
   "id": "171e5806",
   "metadata": {
    "scrolled": true
   },
   "outputs": [
    {
     "data": {
      "text/html": [
       "<div>\n",
       "<style scoped>\n",
       "    .dataframe tbody tr th:only-of-type {\n",
       "        vertical-align: middle;\n",
       "    }\n",
       "\n",
       "    .dataframe tbody tr th {\n",
       "        vertical-align: top;\n",
       "    }\n",
       "\n",
       "    .dataframe thead th {\n",
       "        text-align: right;\n",
       "    }\n",
       "</style>\n",
       "<table border=\"1\" class=\"dataframe\">\n",
       "  <thead>\n",
       "    <tr style=\"text-align: right;\">\n",
       "      <th></th>\n",
       "      <th>price</th>\n",
       "    </tr>\n",
       "  </thead>\n",
       "  <tbody>\n",
       "    <tr>\n",
       "      <th>count</th>\n",
       "      <td>8564.000000</td>\n",
       "    </tr>\n",
       "    <tr>\n",
       "      <th>mean</th>\n",
       "      <td>20.223681</td>\n",
       "    </tr>\n",
       "    <tr>\n",
       "      <th>std</th>\n",
       "      <td>46.348695</td>\n",
       "    </tr>\n",
       "    <tr>\n",
       "      <th>min</th>\n",
       "      <td>0.200000</td>\n",
       "    </tr>\n",
       "    <tr>\n",
       "      <th>25%</th>\n",
       "      <td>4.900000</td>\n",
       "    </tr>\n",
       "    <tr>\n",
       "      <th>50%</th>\n",
       "      <td>10.600000</td>\n",
       "    </tr>\n",
       "    <tr>\n",
       "      <th>75%</th>\n",
       "      <td>19.900000</td>\n",
       "    </tr>\n",
       "    <tr>\n",
       "      <th>max</th>\n",
       "      <td>2439.900000</td>\n",
       "    </tr>\n",
       "  </tbody>\n",
       "</table>\n",
       "</div>"
      ],
      "text/plain": [
       "             price\n",
       "count  8564.000000\n",
       "mean     20.223681\n",
       "std      46.348695\n",
       "min       0.200000\n",
       "25%       4.900000\n",
       "50%      10.600000\n",
       "75%      19.900000\n",
       "max    2439.900000"
      ]
     },
     "execution_count": 25,
     "metadata": {},
     "output_type": "execute_result"
    }
   ],
   "source": [
    "df.describe()"
   ]
  },
  {
   "cell_type": "code",
   "execution_count": 26,
   "id": "400167a0",
   "metadata": {},
   "outputs": [
    {
     "data": {
      "text/plain": [
       "20.223680523120038"
      ]
     },
     "execution_count": 26,
     "metadata": {},
     "output_type": "execute_result"
    }
   ],
   "source": [
    "df.price.mean()"
   ]
  },
  {
   "cell_type": "code",
   "execution_count": 27,
   "id": "c93fb54c",
   "metadata": {},
   "outputs": [],
   "source": [
    "df.price[(df.price==0)]=np.nan"
   ]
  },
  {
   "cell_type": "code",
   "execution_count": 28,
   "id": "88b790c2",
   "metadata": {
    "scrolled": true
   },
   "outputs": [],
   "source": [
    "\n",
    "df.price=df.price.fillna(df.price[non_null_price].mean())"
   ]
  },
  {
   "cell_type": "code",
   "execution_count": 29,
   "id": "9e129f55",
   "metadata": {},
   "outputs": [
    {
     "data": {
      "image/png": "[encoded data removed]",
      "text/plain": [
       "<Figure size 800x600 with 1 Axes>"
      ]
     },
     "metadata": {},
     "output_type": "display_data"
    }
   ],
   "source": [
    "plt.figure(figsize=(8, 6))\n",
    "sns.histplot(data=df, x='price', bins=20, kde=True, color='blue')\n",
    "plt.title('Distribution of Price')\n",
    "plt.xlabel('Price')\n",
    "plt.ylabel('Frequency')\n",
    "plt.show()"
   ]
  },
  {
   "cell_type": "markdown",
   "id": "7f584a90",
   "metadata": {},
   "source": [
    "## Most Expensive Items"
   ]
  },
  {
   "cell_type": "code",
   "execution_count": 160,
   "id": "323c8a44",
   "metadata": {
    "scrolled": false
   },
   "outputs": [
    {
     "name": "stdout",
     "output_type": "stream",
     "text": [
      "Hornby 2014 Catalogue : 3.4\n",
      "FunkyBuys® Large Christmas Holiday Express Festive Train Set (SI-TY1017) Toy Light / Sounds / Battery Operated & Smoke : 16.9\n",
      "CLASSIC TOY TRAIN SET TRACK CARRIAGES LIGHT ENGINE BOXED BOYS KIDS BATTERY : 9.9\n",
      "HORNBY Coach R4410A BR Hawksworth Corridor 3rd : 39.9\n",
      "Hornby 00 Gauge 0-4-0 Gildenlow Salt Co. Steam Locomotive Model : 32.1\n"
     ]
    }
   ],
   "source": [
    "for i in range (0,5):\n",
    "    print(df.sort_values(by='price',ascending=False).product_name[i]+\" : \"+str(df.sort_values(by='price',ascending=False).price[i]))"
   ]
  },
  {
   "cell_type": "code",
   "execution_count": 31,
   "id": "1f7b14cf",
   "metadata": {
    "scrolled": true
   },
   "outputs": [
    {
     "data": {
      "text/plain": [
       "uniq_id                                        218\n",
       "product_name                                   218\n",
       "manufacturer                                   218\n",
       "price                                          218\n",
       "number_available_in_stock                      144\n",
       "number_of_reviews                              217\n",
       "number_of_answered_questions                   210\n",
       "average_review_rating                          217\n",
       "amazon_category_and_sub_category               208\n",
       "description                                    209\n",
       "product_information                            217\n",
       "product_description                            209\n",
       "items_customers_buy_after_viewing_this_item    101\n",
       "dtype: int64"
      ]
     },
     "execution_count": 31,
     "metadata": {},
     "output_type": "execute_result"
    }
   ],
   "source": [
    "df[(df.price>100)].count()"
   ]
  },
  {
   "cell_type": "code",
   "execution_count": 32,
   "id": "46df564e",
   "metadata": {},
   "outputs": [],
   "source": [
    "price_75=np.percentile(df.price,75)\n",
    "price_25=np.percentile(df.price,25)\n",
    "iqr_pri=price_75-price_25\n",
    "upper_pri=df.price.mean()+1.5*iqr_pri\n",
    "\n",
    "\n",
    "df.price[df[(df.price>100)].index]=100\n"
   ]
  },
  {
   "cell_type": "code",
   "execution_count": 33,
   "id": "2a1bbfd1",
   "metadata": {},
   "outputs": [
    {
     "data": {
      "text/plain": [
       "count    10002.000000\n",
       "mean        17.806784\n",
       "std         19.151878\n",
       "min          0.200000\n",
       "25%          5.900000\n",
       "50%         12.900000\n",
       "75%         20.223681\n",
       "max        100.000000\n",
       "Name: price, dtype: float64"
      ]
     },
     "execution_count": 33,
     "metadata": {},
     "output_type": "execute_result"
    }
   ],
   "source": [
    "df.price.describe()"
   ]
  },
  {
   "cell_type": "code",
   "execution_count": 34,
   "id": "8bfcb456",
   "metadata": {},
   "outputs": [
    {
     "data": {
      "text/plain": [
       "2.5856383679779693"
      ]
     },
     "execution_count": 34,
     "metadata": {},
     "output_type": "execute_result"
    }
   ],
   "source": [
    "df.price.skew()"
   ]
  },
  {
   "cell_type": "code",
   "execution_count": 35,
   "id": "b0c417d5",
   "metadata": {
    "scrolled": false
   },
   "outputs": [
    {
     "data": {
      "image/png": "[encoded data removed]",
      "text/plain": [
       "<Figure size 800x600 with 1 Axes>"
      ]
     },
     "metadata": {},
     "output_type": "display_data"
    }
   ],
   "source": [
    "plt.figure(figsize=(8, 6))\n",
    "sns.histplot(data=df, x='price', bins=20, kde=True, color='blue')\n",
    "plt.title('Distribution of Price')\n",
    "plt.xlabel('Price')\n",
    "plt.ylabel('Frequency')\n",
    "plt.show()"
   ]
  },
  {
   "cell_type": "code",
   "execution_count": 36,
   "id": "d2c88af4",
   "metadata": {
    "scrolled": false
   },
   "outputs": [
    {
     "data": {
      "text/plain": [
       "uniq_id                                           0\n",
       "product_name                                      0\n",
       "manufacturer                                      7\n",
       "price                                             0\n",
       "number_available_in_stock                      2500\n",
       "number_of_reviews                                18\n",
       "number_of_answered_questions                    765\n",
       "average_review_rating                            18\n",
       "amazon_category_and_sub_category                690\n",
       "description                                     651\n",
       "product_information                              59\n",
       "product_description                             652\n",
       "items_customers_buy_after_viewing_this_item    3066\n",
       "dtype: int64"
      ]
     },
     "execution_count": 36,
     "metadata": {},
     "output_type": "execute_result"
    }
   ],
   "source": [
    "df.isna().sum()"
   ]
  },
  {
   "cell_type": "markdown",
   "id": "c51be4c8",
   "metadata": {},
   "source": [
    "## Average Review Rating Column\n"
   ]
  },
  {
   "cell_type": "code",
   "execution_count": 37,
   "id": "3b447fee",
   "metadata": {},
   "outputs": [],
   "source": [
    "df.average_review_rating=df.average_review_rating.astype(str)\n"
   ]
  },
  {
   "cell_type": "code",
   "execution_count": 38,
   "id": "10f32dee",
   "metadata": {},
   "outputs": [],
   "source": [
    "df.average_review_rating=df.average_review_rating.apply(ReturnFirstValue)"
   ]
  },
  {
   "cell_type": "code",
   "execution_count": 39,
   "id": "f2646342",
   "metadata": {
    "scrolled": true
   },
   "outputs": [
    {
     "data": {
      "text/plain": [
       "0        4.9\n",
       "1        4.5\n",
       "2        3.9\n",
       "3        5.0\n",
       "4        4.7\n",
       "        ... \n",
       "9997     5.0\n",
       "9998     4.0\n",
       "9999     5.0\n",
       "10000    5.0\n",
       "10001    4.5\n",
       "Name: average_review_rating, Length: 10002, dtype: object"
      ]
     },
     "execution_count": 39,
     "metadata": {},
     "output_type": "execute_result"
    }
   ],
   "source": [
    "df.average_review_rating"
   ]
  },
  {
   "cell_type": "code",
   "execution_count": 40,
   "id": "4a32927a",
   "metadata": {},
   "outputs": [],
   "source": [
    "df.average_review_rating[2002]=np.nan\n",
    "df.average_review_rating[2003]=np.nan"
   ]
  },
  {
   "cell_type": "code",
   "execution_count": 41,
   "id": "887a7a55",
   "metadata": {},
   "outputs": [
    {
     "name": "stdout",
     "output_type": "stream",
     "text": [
      "Ready to be converted to float\n"
     ]
    }
   ],
   "source": [
    "FloatChecker(df.average_review_rating)"
   ]
  },
  {
   "cell_type": "code",
   "execution_count": 42,
   "id": "37bb0f7d",
   "metadata": {},
   "outputs": [],
   "source": [
    "df.average_review_rating=df.average_review_rating.astype(float)"
   ]
  },
  {
   "cell_type": "code",
   "execution_count": 43,
   "id": "e7275f0b",
   "metadata": {
    "scrolled": true
   },
   "outputs": [
    {
     "data": {
      "text/plain": [
       "5.0"
      ]
     },
     "execution_count": 43,
     "metadata": {},
     "output_type": "execute_result"
    }
   ],
   "source": [
    "df.average_review_rating.median()"
   ]
  },
  {
   "cell_type": "code",
   "execution_count": 44,
   "id": "4e163a5a",
   "metadata": {},
   "outputs": [
    {
     "data": {
      "text/plain": [
       "-0.9429479144256939"
      ]
     },
     "execution_count": 44,
     "metadata": {},
     "output_type": "execute_result"
    }
   ],
   "source": [
    "df.average_review_rating.skew()"
   ]
  },
  {
   "cell_type": "code",
   "execution_count": 45,
   "id": "8247d7ab",
   "metadata": {},
   "outputs": [],
   "source": [
    "df.average_review_rating=df.average_review_rating.fillna(df.average_review_rating.mean())"
   ]
  },
  {
   "cell_type": "code",
   "execution_count": 46,
   "id": "1dc9207a",
   "metadata": {
    "scrolled": false
   },
   "outputs": [
    {
     "data": {
      "image/png": "[encoded data removed]",
      "text/plain": [
       "<Figure size 800x600 with 1 Axes>"
      ]
     },
     "metadata": {},
     "output_type": "display_data"
    }
   ],
   "source": [
    "plt.figure(figsize=(8, 6))\n",
    "sns.histplot(data=df, x='average_review_rating', bins=20, kde=True, color='blue')\n",
    "plt.title('Distribution of rating')\n",
    "plt.xlabel('rating')\n",
    "plt.ylabel('Frequency')\n",
    "plt.show()"
   ]
  },
  {
   "cell_type": "code",
   "execution_count": 47,
   "id": "812af71e",
   "metadata": {
    "scrolled": true
   },
   "outputs": [
    {
     "data": {
      "text/plain": [
       "uniq_id                                           0\n",
       "product_name                                      0\n",
       "manufacturer                                      7\n",
       "price                                             0\n",
       "number_available_in_stock                      2500\n",
       "number_of_reviews                                18\n",
       "number_of_answered_questions                    765\n",
       "average_review_rating                             0\n",
       "amazon_category_and_sub_category                690\n",
       "description                                     651\n",
       "product_information                              59\n",
       "product_description                             652\n",
       "items_customers_buy_after_viewing_this_item    3066\n",
       "dtype: int64"
      ]
     },
     "execution_count": 47,
     "metadata": {},
     "output_type": "execute_result"
    }
   ],
   "source": [
    "df.isna().sum()"
   ]
  },
  {
   "cell_type": "markdown",
   "id": "369df220",
   "metadata": {},
   "source": [
    "## Number of reviews\n"
   ]
  },
  {
   "cell_type": "code",
   "execution_count": 48,
   "id": "cd07cf77",
   "metadata": {},
   "outputs": [],
   "source": [
    "df.number_of_reviews=df.number_of_reviews.astype(str)\n"
   ]
  },
  {
   "cell_type": "code",
   "execution_count": 49,
   "id": "67441c30",
   "metadata": {
    "scrolled": true
   },
   "outputs": [
    {
     "data": {
      "text/plain": [
       "0        15\n",
       "1         2\n",
       "2        17\n",
       "3         1\n",
       "4         3\n",
       "         ..\n",
       "9997      3\n",
       "9998      1\n",
       "9999      1\n",
       "10000     1\n",
       "10001    11\n",
       "Name: number_of_reviews, Length: 10002, dtype: object"
      ]
     },
     "execution_count": 49,
     "metadata": {},
     "output_type": "execute_result"
    }
   ],
   "source": [
    "df.number_of_reviews"
   ]
  },
  {
   "cell_type": "code",
   "execution_count": 50,
   "id": "e104780e",
   "metadata": {
    "scrolled": true
   },
   "outputs": [
    {
     "name": "stdout",
     "output_type": "stream",
     "text": [
      "2002\n",
      "subtextKey\"\":\"\"android-tagline\"\"\n",
      "2003\n",
      "subtextKey\"\":\"\"android-tagline\"\"\n",
      "8874\n",
      "1,040\n",
      "9317\n",
      "1,399\n"
     ]
    }
   ],
   "source": [
    "FloatChecker(df.number_of_reviews)"
   ]
  },
  {
   "cell_type": "code",
   "execution_count": 51,
   "id": "073308b5",
   "metadata": {
    "scrolled": false
   },
   "outputs": [],
   "source": [
    "df.number_of_reviews[8874]=float(1040)\n",
    "df.number_of_reviews[9317]=float(1399)\n",
    "df.number_of_reviews[2002]=np.nan\n",
    "df.number_of_reviews[2003]=np.nan"
   ]
  },
  {
   "cell_type": "code",
   "execution_count": 52,
   "id": "9b646f52",
   "metadata": {
    "scrolled": true
   },
   "outputs": [
    {
     "name": "stdout",
     "output_type": "stream",
     "text": [
      "Ready to be converted to float\n"
     ]
    }
   ],
   "source": [
    "FloatChecker(df.number_of_reviews)"
   ]
  },
  {
   "cell_type": "code",
   "execution_count": 53,
   "id": "6b2d68b9",
   "metadata": {},
   "outputs": [],
   "source": [
    "df.number_of_reviews=df.number_of_reviews.astype(float)"
   ]
  },
  {
   "cell_type": "code",
   "execution_count": 54,
   "id": "2fdbaf81",
   "metadata": {},
   "outputs": [],
   "source": [
    "df.number_of_reviews=df.number_of_reviews.fillna(df.number_of_reviews.mean())"
   ]
  },
  {
   "cell_type": "code",
   "execution_count": 55,
   "id": "49513ee7",
   "metadata": {},
   "outputs": [],
   "source": [
    "nor_75=np.percentile(df.number_of_reviews,75)\n",
    "nor_25=np.percentile(df.number_of_reviews,25)\n",
    "iqr_nor=nor_75-nor_25\n",
    "upper_nor=df.number_of_reviews.mean()+1.5*iqr_nor\n",
    "\n",
    "\n",
    "df.number_of_reviews[df[(df.number_of_reviews>upper_pri)].index]=upper_nor\n"
   ]
  },
  {
   "cell_type": "code",
   "execution_count": 56,
   "id": "6648b11c",
   "metadata": {
    "scrolled": true
   },
   "outputs": [
    {
     "data": {
      "text/plain": [
       "2.346461610836545"
      ]
     },
     "execution_count": 56,
     "metadata": {},
     "output_type": "execute_result"
    }
   ],
   "source": [
    "df.number_of_reviews.skew()"
   ]
  },
  {
   "cell_type": "code",
   "execution_count": 57,
   "id": "f85b54af",
   "metadata": {
    "scrolled": true
   },
   "outputs": [
    {
     "name": "stdout",
     "output_type": "stream",
     "text": [
      "<class 'pandas.core.frame.DataFrame'>\n",
      "RangeIndex: 10002 entries, 0 to 10001\n",
      "Data columns (total 13 columns):\n",
      " #   Column                                       Non-Null Count  Dtype  \n",
      "---  ------                                       --------------  -----  \n",
      " 0   uniq_id                                      10002 non-null  object \n",
      " 1   product_name                                 10002 non-null  object \n",
      " 2   manufacturer                                 9995 non-null   object \n",
      " 3   price                                        10002 non-null  float64\n",
      " 4   number_available_in_stock                    7502 non-null   object \n",
      " 5   number_of_reviews                            10002 non-null  float64\n",
      " 6   number_of_answered_questions                 9237 non-null   object \n",
      " 7   average_review_rating                        10002 non-null  float64\n",
      " 8   amazon_category_and_sub_category             9312 non-null   object \n",
      " 9   description                                  9351 non-null   object \n",
      " 10  product_information                          9943 non-null   object \n",
      " 11  product_description                          9350 non-null   object \n",
      " 12  items_customers_buy_after_viewing_this_item  6936 non-null   object \n",
      "dtypes: float64(3), object(10)\n",
      "memory usage: 1016.0+ KB\n"
     ]
    }
   ],
   "source": [
    "df.info()"
   ]
  },
  {
   "cell_type": "markdown",
   "id": "1cc655d3",
   "metadata": {},
   "source": [
    "## Available in stock column\n"
   ]
  },
  {
   "cell_type": "code",
   "execution_count": 58,
   "id": "705a0f88",
   "metadata": {},
   "outputs": [],
   "source": [
    "df.number_available_in_stock=df.number_available_in_stock.astype(str)"
   ]
  },
  {
   "cell_type": "code",
   "execution_count": 59,
   "id": "d4baa072",
   "metadata": {
    "scrolled": true
   },
   "outputs": [],
   "source": [
    "\n",
    "null_available=df[(df.number_available_in_stock==\"nan\")].index\n",
    "df.number_available_in_stock=df.number_available_in_stock.apply(ReturnFirstValue)"
   ]
  },
  {
   "cell_type": "code",
   "execution_count": 60,
   "id": "fcfa67bc",
   "metadata": {
    "scrolled": true
   },
   "outputs": [],
   "source": [
    "df.number_available_in_stock[null_available]=str(0)"
   ]
  },
  {
   "cell_type": "code",
   "execution_count": 61,
   "id": "5bfd8135",
   "metadata": {
    "scrolled": false
   },
   "outputs": [
    {
     "name": "stdout",
     "output_type": "stream",
     "text": [
      "2002\n",
      "text\"\":\"\"Appstore\n",
      "2003\n",
      "text\"\":\"\"Appstore\n"
     ]
    }
   ],
   "source": [
    "FloatChecker(df.number_available_in_stock)"
   ]
  },
  {
   "cell_type": "code",
   "execution_count": 62,
   "id": "f75a1960",
   "metadata": {},
   "outputs": [],
   "source": [
    "\n",
    "df.number_available_in_stock[2002]=float(0)\n",
    "df.number_available_in_stock[2003]=float(0)"
   ]
  },
  {
   "cell_type": "code",
   "execution_count": 63,
   "id": "58bdcd54",
   "metadata": {},
   "outputs": [],
   "source": [
    "df.number_available_in_stock=df.number_available_in_stock.astype(float)"
   ]
  },
  {
   "cell_type": "code",
   "execution_count": 64,
   "id": "0be8d7ae",
   "metadata": {},
   "outputs": [
    {
     "data": {
      "text/plain": [
       "2.96239774186609"
      ]
     },
     "execution_count": 64,
     "metadata": {},
     "output_type": "execute_result"
    }
   ],
   "source": [
    "df.number_available_in_stock.skew()"
   ]
  },
  {
   "cell_type": "code",
   "execution_count": 65,
   "id": "eec58247",
   "metadata": {
    "scrolled": false
   },
   "outputs": [
    {
     "name": "stdout",
     "output_type": "stream",
     "text": [
      "<class 'pandas.core.frame.DataFrame'>\n",
      "RangeIndex: 10002 entries, 0 to 10001\n",
      "Data columns (total 13 columns):\n",
      " #   Column                                       Non-Null Count  Dtype  \n",
      "---  ------                                       --------------  -----  \n",
      " 0   uniq_id                                      10002 non-null  object \n",
      " 1   product_name                                 10002 non-null  object \n",
      " 2   manufacturer                                 9995 non-null   object \n",
      " 3   price                                        10002 non-null  float64\n",
      " 4   number_available_in_stock                    10002 non-null  float64\n",
      " 5   number_of_reviews                            10002 non-null  float64\n",
      " 6   number_of_answered_questions                 9237 non-null   object \n",
      " 7   average_review_rating                        10002 non-null  float64\n",
      " 8   amazon_category_and_sub_category             9312 non-null   object \n",
      " 9   description                                  9351 non-null   object \n",
      " 10  product_information                          9943 non-null   object \n",
      " 11  product_description                          9350 non-null   object \n",
      " 12  items_customers_buy_after_viewing_this_item  6936 non-null   object \n",
      "dtypes: float64(4), object(9)\n",
      "memory usage: 1016.0+ KB\n"
     ]
    }
   ],
   "source": [
    "df.info()"
   ]
  },
  {
   "cell_type": "markdown",
   "id": "4d329c77",
   "metadata": {},
   "source": [
    "## Number of answered questions"
   ]
  },
  {
   "cell_type": "code",
   "execution_count": 66,
   "id": "917f5460",
   "metadata": {},
   "outputs": [],
   "source": [
    "\n",
    "df.number_of_answered_questions=df.number_of_answered_questions.astype(str)\n",
    "null_answered=df[(df.number_available_in_stock==\"nan\")].index\n",
    "df.number_of_answered_questions[null_answered]=\"0\""
   ]
  },
  {
   "cell_type": "code",
   "execution_count": 67,
   "id": "3ac791b4",
   "metadata": {},
   "outputs": [],
   "source": [
    "df.number_of_answered_questions[2002]=np.nan\n",
    "df.number_of_answered_questions[2003]=np.nan"
   ]
  },
  {
   "cell_type": "code",
   "execution_count": 68,
   "id": "a9516479",
   "metadata": {
    "scrolled": true
   },
   "outputs": [
    {
     "name": "stdout",
     "output_type": "stream",
     "text": [
      "Ready to be converted to float\n"
     ]
    }
   ],
   "source": [
    "FloatChecker(df.number_of_answered_questions)"
   ]
  },
  {
   "cell_type": "code",
   "execution_count": 69,
   "id": "31d1af1b",
   "metadata": {},
   "outputs": [],
   "source": [
    "df.number_of_answered_questions=df.number_of_answered_questions.astype(float)"
   ]
  },
  {
   "cell_type": "code",
   "execution_count": 70,
   "id": "92ba7040",
   "metadata": {},
   "outputs": [
    {
     "data": {
      "text/plain": [
       "7.820504844160154"
      ]
     },
     "execution_count": 70,
     "metadata": {},
     "output_type": "execute_result"
    }
   ],
   "source": [
    "df.number_of_answered_questions.skew()"
   ]
  },
  {
   "cell_type": "code",
   "execution_count": 71,
   "id": "924a34d4",
   "metadata": {
    "scrolled": true
   },
   "outputs": [
    {
     "name": "stdout",
     "output_type": "stream",
     "text": [
      "<class 'pandas.core.frame.DataFrame'>\n",
      "RangeIndex: 10002 entries, 0 to 10001\n",
      "Data columns (total 13 columns):\n",
      " #   Column                                       Non-Null Count  Dtype  \n",
      "---  ------                                       --------------  -----  \n",
      " 0   uniq_id                                      10002 non-null  object \n",
      " 1   product_name                                 10002 non-null  object \n",
      " 2   manufacturer                                 9995 non-null   object \n",
      " 3   price                                        10002 non-null  float64\n",
      " 4   number_available_in_stock                    10002 non-null  float64\n",
      " 5   number_of_reviews                            10002 non-null  float64\n",
      " 6   number_of_answered_questions                 9235 non-null   float64\n",
      " 7   average_review_rating                        10002 non-null  float64\n",
      " 8   amazon_category_and_sub_category             9312 non-null   object \n",
      " 9   description                                  9351 non-null   object \n",
      " 10  product_information                          9943 non-null   object \n",
      " 11  product_description                          9350 non-null   object \n",
      " 12  items_customers_buy_after_viewing_this_item  6936 non-null   object \n",
      "dtypes: float64(5), object(8)\n",
      "memory usage: 1016.0+ KB\n"
     ]
    }
   ],
   "source": [
    "df.info()"
   ]
  },
  {
   "cell_type": "code",
   "execution_count": 72,
   "id": "3039dcc2",
   "metadata": {
    "scrolled": true
   },
   "outputs": [
    {
     "data": {
      "text/plain": [
       "uniq_id                                           0\n",
       "product_name                                      0\n",
       "manufacturer                                      7\n",
       "price                                             0\n",
       "number_available_in_stock                         0\n",
       "number_of_reviews                                 0\n",
       "number_of_answered_questions                    767\n",
       "average_review_rating                             0\n",
       "amazon_category_and_sub_category                690\n",
       "description                                     651\n",
       "product_information                              59\n",
       "product_description                             652\n",
       "items_customers_buy_after_viewing_this_item    3066\n",
       "dtype: int64"
      ]
     },
     "execution_count": 72,
     "metadata": {},
     "output_type": "execute_result"
    }
   ],
   "source": [
    "df.isna().sum()"
   ]
  },
  {
   "cell_type": "markdown",
   "id": "8af32ded",
   "metadata": {},
   "source": [
    "## Manufacturer"
   ]
  },
  {
   "cell_type": "code",
   "execution_count": 73,
   "id": "8daa0ee9",
   "metadata": {
    "scrolled": false
   },
   "outputs": [],
   "source": [
    "df.dropna(subset='manufacturer', inplace=True,axis=0)\n",
    "df.reset_index(drop=True,inplace=True)"
   ]
  },
  {
   "cell_type": "code",
   "execution_count": 74,
   "id": "1c3b28db",
   "metadata": {},
   "outputs": [
    {
     "data": {
      "text/plain": [
       "array(['Hornby', 'FunkyBuys', 'ccf', ..., 'Captain america', 'IronMan',\n",
       "       'Super Heroes'], dtype=object)"
      ]
     },
     "execution_count": 74,
     "metadata": {},
     "output_type": "execute_result"
    }
   ],
   "source": [
    "man_arr=df.manufacturer.unique()\n",
    "man_arr"
   ]
  },
  {
   "cell_type": "code",
   "execution_count": 75,
   "id": "77c03eb3",
   "metadata": {},
   "outputs": [],
   "source": [
    "def handleman(value):\n",
    "    for i in range(len(man_arr)):\n",
    "        if(value==man_arr[i]):\n",
    "            value=i\n",
    "    return value\n"
   ]
  },
  {
   "cell_type": "code",
   "execution_count": 76,
   "id": "4b84b543",
   "metadata": {},
   "outputs": [],
   "source": [
    "df.manufacturer=df.manufacturer.apply(handleman)"
   ]
  },
  {
   "cell_type": "code",
   "execution_count": 77,
   "id": "9c2460a4",
   "metadata": {},
   "outputs": [],
   "source": [
    "df.manufacturer=df.manufacturer.astype(float)"
   ]
  },
  {
   "cell_type": "code",
   "execution_count": 78,
   "id": "07869a84",
   "metadata": {
    "scrolled": true
   },
   "outputs": [
    {
     "data": {
      "text/plain": [
       "(9995, 13)"
      ]
     },
     "execution_count": 78,
     "metadata": {},
     "output_type": "execute_result"
    }
   ],
   "source": [
    "df.shape"
   ]
  },
  {
   "cell_type": "code",
   "execution_count": null,
   "id": "8879521f",
   "metadata": {},
   "outputs": [],
   "source": []
  },
  {
   "cell_type": "code",
   "execution_count": 79,
   "id": "4b7ff464",
   "metadata": {
    "scrolled": false
   },
   "outputs": [
    {
     "data": {
      "text/html": [
       "<div>\n",
       "<style scoped>\n",
       "    .dataframe tbody tr th:only-of-type {\n",
       "        vertical-align: middle;\n",
       "    }\n",
       "\n",
       "    .dataframe tbody tr th {\n",
       "        vertical-align: top;\n",
       "    }\n",
       "\n",
       "    .dataframe thead th {\n",
       "        text-align: right;\n",
       "    }\n",
       "</style>\n",
       "<table border=\"1\" class=\"dataframe\">\n",
       "  <thead>\n",
       "    <tr style=\"text-align: right;\">\n",
       "      <th></th>\n",
       "      <th>uniq_id</th>\n",
       "      <th>product_name</th>\n",
       "      <th>manufacturer</th>\n",
       "      <th>price</th>\n",
       "      <th>number_available_in_stock</th>\n",
       "      <th>number_of_reviews</th>\n",
       "      <th>number_of_answered_questions</th>\n",
       "      <th>average_review_rating</th>\n",
       "      <th>amazon_category_and_sub_category</th>\n",
       "      <th>description</th>\n",
       "      <th>product_information</th>\n",
       "      <th>product_description</th>\n",
       "      <th>items_customers_buy_after_viewing_this_item</th>\n",
       "    </tr>\n",
       "  </thead>\n",
       "  <tbody>\n",
       "    <tr>\n",
       "      <th>0</th>\n",
       "      <td>eac7efa5dbd3d667f26eb3d3ab504464</td>\n",
       "      <td>Hornby 2014 Catalogue</td>\n",
       "      <td>0.0</td>\n",
       "      <td>3.4</td>\n",
       "      <td>5.0</td>\n",
       "      <td>15.0</td>\n",
       "      <td>1.0</td>\n",
       "      <td>4.9</td>\n",
       "      <td>Hobbies &gt; Model Trains &amp; Railway Sets &gt; Rail V...</td>\n",
       "      <td>Product Description Hornby 2014 Catalogue Box ...</td>\n",
       "      <td>Technical Details Item Weight640 g Product Dim...</td>\n",
       "      <td>Product Description Hornby 2014 Catalogue Box ...</td>\n",
       "      <td>http://www.amazon.co.uk/Hornby-R8150-Catalogue...</td>\n",
       "    </tr>\n",
       "    <tr>\n",
       "      <th>1</th>\n",
       "      <td>b17540ef7e86e461d37f3ae58b7b72ac</td>\n",
       "      <td>FunkyBuys® Large Christmas Holiday Express Fes...</td>\n",
       "      <td>1.0</td>\n",
       "      <td>16.9</td>\n",
       "      <td>0.0</td>\n",
       "      <td>2.0</td>\n",
       "      <td>1.0</td>\n",
       "      <td>4.5</td>\n",
       "      <td>Hobbies &gt; Model Trains &amp; Railway Sets &gt; Rail V...</td>\n",
       "      <td>Size Name:Large FunkyBuys® Large Christmas Hol...</td>\n",
       "      <td>Technical Details Manufacturer recommended age...</td>\n",
       "      <td>Size Name:Large FunkyBuys® Large Christmas Hol...</td>\n",
       "      <td>http://www.amazon.co.uk/Christmas-Holiday-Expr...</td>\n",
       "    </tr>\n",
       "    <tr>\n",
       "      <th>2</th>\n",
       "      <td>348f344247b0c1a935b1223072ef9d8a</td>\n",
       "      <td>CLASSIC TOY TRAIN SET TRACK CARRIAGES LIGHT EN...</td>\n",
       "      <td>2.0</td>\n",
       "      <td>9.9</td>\n",
       "      <td>2.0</td>\n",
       "      <td>17.0</td>\n",
       "      <td>2.0</td>\n",
       "      <td>3.9</td>\n",
       "      <td>Hobbies &gt; Model Trains &amp; Railway Sets &gt; Rail V...</td>\n",
       "      <td>BIG CLASSIC TOY TRAIN SET TRACK CARRIAGE LIGHT...</td>\n",
       "      <td>Technical Details Manufacturer recommended age...</td>\n",
       "      <td>BIG CLASSIC TOY TRAIN SET TRACK CARRIAGE LIGHT...</td>\n",
       "      <td>http://www.amazon.co.uk/Train-With-Tracks-Batt...</td>\n",
       "    </tr>\n",
       "    <tr>\n",
       "      <th>3</th>\n",
       "      <td>e12b92dbb8eaee78b22965d2a9bbbd9f</td>\n",
       "      <td>HORNBY Coach R4410A BR Hawksworth Corridor 3rd</td>\n",
       "      <td>0.0</td>\n",
       "      <td>39.9</td>\n",
       "      <td>0.0</td>\n",
       "      <td>1.0</td>\n",
       "      <td>2.0</td>\n",
       "      <td>5.0</td>\n",
       "      <td>Hobbies &gt; Model Trains &amp; Railway Sets &gt; Rail V...</td>\n",
       "      <td>Hornby 00 Gauge BR Hawksworth 3rd Class W 2107...</td>\n",
       "      <td>Technical Details Item Weight259 g Product Dim...</td>\n",
       "      <td>Hornby 00 Gauge BR Hawksworth 3rd Class W 2107...</td>\n",
       "      <td>NaN</td>\n",
       "    </tr>\n",
       "    <tr>\n",
       "      <th>4</th>\n",
       "      <td>e33a9adeed5f36840ccc227db4682a36</td>\n",
       "      <td>Hornby 00 Gauge 0-4-0 Gildenlow Salt Co. Steam...</td>\n",
       "      <td>0.0</td>\n",
       "      <td>32.1</td>\n",
       "      <td>0.0</td>\n",
       "      <td>3.0</td>\n",
       "      <td>2.0</td>\n",
       "      <td>4.7</td>\n",
       "      <td>Hobbies &gt; Model Trains &amp; Railway Sets &gt; Rail V...</td>\n",
       "      <td>Product Description Hornby RailRoad 0-4-0 Gild...</td>\n",
       "      <td>Technical Details Item Weight159 g Product Dim...</td>\n",
       "      <td>Product Description Hornby RailRoad 0-4-0 Gild...</td>\n",
       "      <td>http://www.amazon.co.uk/Hornby-R2672-RailRoad-...</td>\n",
       "    </tr>\n",
       "  </tbody>\n",
       "</table>\n",
       "</div>"
      ],
      "text/plain": [
       "                            uniq_id  \\\n",
       "0  eac7efa5dbd3d667f26eb3d3ab504464   \n",
       "1  b17540ef7e86e461d37f3ae58b7b72ac   \n",
       "2  348f344247b0c1a935b1223072ef9d8a   \n",
       "3  e12b92dbb8eaee78b22965d2a9bbbd9f   \n",
       "4  e33a9adeed5f36840ccc227db4682a36   \n",
       "\n",
       "                                        product_name  manufacturer  price  \\\n",
       "0                              Hornby 2014 Catalogue           0.0    3.4   \n",
       "1  FunkyBuys® Large Christmas Holiday Express Fes...           1.0   16.9   \n",
       "2  CLASSIC TOY TRAIN SET TRACK CARRIAGES LIGHT EN...           2.0    9.9   \n",
       "3     HORNBY Coach R4410A BR Hawksworth Corridor 3rd           0.0   39.9   \n",
       "4  Hornby 00 Gauge 0-4-0 Gildenlow Salt Co. Steam...           0.0   32.1   \n",
       "\n",
       "   number_available_in_stock  number_of_reviews  number_of_answered_questions  \\\n",
       "0                        5.0               15.0                           1.0   \n",
       "1                        0.0                2.0                           1.0   \n",
       "2                        2.0               17.0                           2.0   \n",
       "3                        0.0                1.0                           2.0   \n",
       "4                        0.0                3.0                           2.0   \n",
       "\n",
       "   average_review_rating                   amazon_category_and_sub_category  \\\n",
       "0                    4.9  Hobbies > Model Trains & Railway Sets > Rail V...   \n",
       "1                    4.5  Hobbies > Model Trains & Railway Sets > Rail V...   \n",
       "2                    3.9  Hobbies > Model Trains & Railway Sets > Rail V...   \n",
       "3                    5.0  Hobbies > Model Trains & Railway Sets > Rail V...   \n",
       "4                    4.7  Hobbies > Model Trains & Railway Sets > Rail V...   \n",
       "\n",
       "                                         description  \\\n",
       "0  Product Description Hornby 2014 Catalogue Box ...   \n",
       "1  Size Name:Large FunkyBuys® Large Christmas Hol...   \n",
       "2  BIG CLASSIC TOY TRAIN SET TRACK CARRIAGE LIGHT...   \n",
       "3  Hornby 00 Gauge BR Hawksworth 3rd Class W 2107...   \n",
       "4  Product Description Hornby RailRoad 0-4-0 Gild...   \n",
       "\n",
       "                                 product_information  \\\n",
       "0  Technical Details Item Weight640 g Product Dim...   \n",
       "1  Technical Details Manufacturer recommended age...   \n",
       "2  Technical Details Manufacturer recommended age...   \n",
       "3  Technical Details Item Weight259 g Product Dim...   \n",
       "4  Technical Details Item Weight159 g Product Dim...   \n",
       "\n",
       "                                 product_description  \\\n",
       "0  Product Description Hornby 2014 Catalogue Box ...   \n",
       "1  Size Name:Large FunkyBuys® Large Christmas Hol...   \n",
       "2  BIG CLASSIC TOY TRAIN SET TRACK CARRIAGE LIGHT...   \n",
       "3  Hornby 00 Gauge BR Hawksworth 3rd Class W 2107...   \n",
       "4  Product Description Hornby RailRoad 0-4-0 Gild...   \n",
       "\n",
       "         items_customers_buy_after_viewing_this_item  \n",
       "0  http://www.amazon.co.uk/Hornby-R8150-Catalogue...  \n",
       "1  http://www.amazon.co.uk/Christmas-Holiday-Expr...  \n",
       "2  http://www.amazon.co.uk/Train-With-Tracks-Batt...  \n",
       "3                                                NaN  \n",
       "4  http://www.amazon.co.uk/Hornby-R2672-RailRoad-...  "
      ]
     },
     "execution_count": 79,
     "metadata": {},
     "output_type": "execute_result"
    }
   ],
   "source": [
    "df.head()"
   ]
  },
  {
   "cell_type": "markdown",
   "id": "978264a7",
   "metadata": {},
   "source": [
    "## Category Handling"
   ]
  },
  {
   "cell_type": "code",
   "execution_count": 80,
   "id": "ea7f78c4",
   "metadata": {},
   "outputs": [],
   "source": [
    "def handlecateg(value):\n",
    "    value=value.split(' > ')\n",
    "    return value\n",
    "    "
   ]
  },
  {
   "cell_type": "code",
   "execution_count": 81,
   "id": "469ec90b",
   "metadata": {},
   "outputs": [],
   "source": [
    "df.amazon_category_and_sub_category=df.amazon_category_and_sub_category.astype(str)\n",
    "df.amazon_category_and_sub_category=df.amazon_category_and_sub_category.apply(handlecateg)"
   ]
  },
  {
   "cell_type": "code",
   "execution_count": 82,
   "id": "8b08751a",
   "metadata": {
    "scrolled": true
   },
   "outputs": [],
   "source": [
    "df['category']=1\n",
    "df['subcategory']=1\n",
    "for i in range(0,len(df)):\n",
    "    \n",
    "    if len(df.amazon_category_and_sub_category[i])>1:\n",
    "            df['category'][i]=df.amazon_category_and_sub_category[i][0]\n",
    "            df['subcategory'][i]=df.amazon_category_and_sub_category[i][1]\n",
    "    if len(df.amazon_category_and_sub_category[i])==1:\n",
    "            df['category'][i]=np.nan\n",
    "            df['subcategory'][i]=np.nan\n"
   ]
  },
  {
   "cell_type": "code",
   "execution_count": 83,
   "id": "94e6035d",
   "metadata": {},
   "outputs": [],
   "source": [
    "df2=pd.DataFrame()\n",
    "df2['category']=1\n",
    "df2['frequency']=1\n",
    "df2['category']=df.category.unique()\n",
    "for i in range(0,len(df2)):\n",
    "    df2['frequency'][i]=len(df[(df.category==df2.category[i])])"
   ]
  },
  {
   "cell_type": "code",
   "execution_count": 84,
   "id": "bc0b4acd",
   "metadata": {
    "scrolled": true
   },
   "outputs": [
    {
     "data": {
      "text/html": [
       "<div>\n",
       "<style scoped>\n",
       "    .dataframe tbody tr th:only-of-type {\n",
       "        vertical-align: middle;\n",
       "    }\n",
       "\n",
       "    .dataframe tbody tr th {\n",
       "        vertical-align: top;\n",
       "    }\n",
       "\n",
       "    .dataframe thead th {\n",
       "        text-align: right;\n",
       "    }\n",
       "</style>\n",
       "<table border=\"1\" class=\"dataframe\">\n",
       "  <thead>\n",
       "    <tr style=\"text-align: right;\">\n",
       "      <th></th>\n",
       "      <th>category</th>\n",
       "      <th>frequency</th>\n",
       "      <th>subcategory</th>\n",
       "    </tr>\n",
       "  </thead>\n",
       "  <tbody>\n",
       "    <tr>\n",
       "      <th>24</th>\n",
       "      <td>NaN</td>\n",
       "      <td>1100.0</td>\n",
       "      <td>Toy Vehicles &amp; Accessories</td>\n",
       "    </tr>\n",
       "    <tr>\n",
       "      <th>31</th>\n",
       "      <td>NaN</td>\n",
       "      <td>592.0</td>\n",
       "      <td>Accessories</td>\n",
       "    </tr>\n",
       "    <tr>\n",
       "      <th>20</th>\n",
       "      <td>NaN</td>\n",
       "      <td>485.0</td>\n",
       "      <td>Science Fiction &amp; Fantasy</td>\n",
       "    </tr>\n",
       "    <tr>\n",
       "      <th>8</th>\n",
       "      <td>NaN</td>\n",
       "      <td>426.0</td>\n",
       "      <td>Children's Craft Kits</td>\n",
       "    </tr>\n",
       "    <tr>\n",
       "      <th>0</th>\n",
       "      <td>NaN</td>\n",
       "      <td>387.0</td>\n",
       "      <td>Model Trains &amp; Railway Sets</td>\n",
       "    </tr>\n",
       "    <tr>\n",
       "      <th>...</th>\n",
       "      <td>...</td>\n",
       "      <td>...</td>\n",
       "      <td>...</td>\n",
       "    </tr>\n",
       "    <tr>\n",
       "      <th>102</th>\n",
       "      <td>NaN</td>\n",
       "      <td>1.0</td>\n",
       "      <td>Drawing &amp; Painting Supplies</td>\n",
       "    </tr>\n",
       "    <tr>\n",
       "      <th>105</th>\n",
       "      <td>NaN</td>\n",
       "      <td>1.0</td>\n",
       "      <td>Pencils</td>\n",
       "    </tr>\n",
       "    <tr>\n",
       "      <th>106</th>\n",
       "      <td>NaN</td>\n",
       "      <td>1.0</td>\n",
       "      <td>Pens &amp; Refills</td>\n",
       "    </tr>\n",
       "    <tr>\n",
       "      <th>148</th>\n",
       "      <td>NaN</td>\n",
       "      <td>1.0</td>\n",
       "      <td>Drinking Games</td>\n",
       "    </tr>\n",
       "    <tr>\n",
       "      <th>1</th>\n",
       "      <td>NaN</td>\n",
       "      <td>0.0</td>\n",
       "      <td>NaN</td>\n",
       "    </tr>\n",
       "  </tbody>\n",
       "</table>\n",
       "<p>149 rows × 3 columns</p>\n",
       "</div>"
      ],
      "text/plain": [
       "     category  frequency                  subcategory\n",
       "24        NaN     1100.0   Toy Vehicles & Accessories\n",
       "31        NaN      592.0                  Accessories\n",
       "20        NaN      485.0    Science Fiction & Fantasy\n",
       "8         NaN      426.0        Children's Craft Kits\n",
       "0         NaN      387.0  Model Trains & Railway Sets\n",
       "..        ...        ...                          ...\n",
       "102       NaN        1.0  Drawing & Painting Supplies\n",
       "105       NaN        1.0                      Pencils\n",
       "106       NaN        1.0               Pens & Refills\n",
       "148       NaN        1.0               Drinking Games\n",
       "1         NaN        0.0                          NaN\n",
       "\n",
       "[149 rows x 3 columns]"
      ]
     },
     "execution_count": 84,
     "metadata": {},
     "output_type": "execute_result"
    }
   ],
   "source": [
    "df3=pd.DataFrame()\n",
    "df3['category']=1\n",
    "df3['frequency']=1\n",
    "df3['subcategory']=df.subcategory.unique()\n",
    "for i in range(0,len(df3)):\n",
    "    df3['frequency'][i]=len(df[(df.subcategory==df3.subcategory[i])])\n",
    "df3.sort_values(by='frequency',ascending=False)"
   ]
  },
  {
   "cell_type": "code",
   "execution_count": 85,
   "id": "47f02895",
   "metadata": {
    "scrolled": true
   },
   "outputs": [],
   "source": [
    "df.drop(columns=\"amazon_category_and_sub_category\",inplace=True)"
   ]
  },
  {
   "cell_type": "markdown",
   "id": "716446fa",
   "metadata": {},
   "source": [
    "## EDA"
   ]
  },
  {
   "cell_type": "code",
   "execution_count": 86,
   "id": "de5008e6",
   "metadata": {},
   "outputs": [
    {
     "data": {
      "text/html": [
       "<div>\n",
       "<style scoped>\n",
       "    .dataframe tbody tr th:only-of-type {\n",
       "        vertical-align: middle;\n",
       "    }\n",
       "\n",
       "    .dataframe tbody tr th {\n",
       "        vertical-align: top;\n",
       "    }\n",
       "\n",
       "    .dataframe thead th {\n",
       "        text-align: right;\n",
       "    }\n",
       "</style>\n",
       "<table border=\"1\" class=\"dataframe\">\n",
       "  <thead>\n",
       "    <tr style=\"text-align: right;\">\n",
       "      <th></th>\n",
       "      <th>manufacturer</th>\n",
       "      <th>price</th>\n",
       "      <th>number_available_in_stock</th>\n",
       "      <th>number_of_reviews</th>\n",
       "      <th>number_of_answered_questions</th>\n",
       "      <th>average_review_rating</th>\n",
       "    </tr>\n",
       "  </thead>\n",
       "  <tbody>\n",
       "    <tr>\n",
       "      <th>count</th>\n",
       "      <td>9995.000000</td>\n",
       "      <td>9995.000000</td>\n",
       "      <td>9995.000000</td>\n",
       "      <td>9995.000000</td>\n",
       "      <td>9229.000000</td>\n",
       "      <td>9995.000000</td>\n",
       "    </tr>\n",
       "    <tr>\n",
       "      <th>mean</th>\n",
       "      <td>852.413907</td>\n",
       "      <td>17.806834</td>\n",
       "      <td>5.938969</td>\n",
       "      <td>5.307464</td>\n",
       "      <td>1.833676</td>\n",
       "      <td>4.707318</td>\n",
       "    </tr>\n",
       "    <tr>\n",
       "      <th>std</th>\n",
       "      <td>749.576175</td>\n",
       "      <td>19.155208</td>\n",
       "      <td>8.362873</td>\n",
       "      <td>7.341247</td>\n",
       "      <td>2.516045</td>\n",
       "      <td>0.371865</td>\n",
       "    </tr>\n",
       "    <tr>\n",
       "      <th>min</th>\n",
       "      <td>0.000000</td>\n",
       "      <td>0.200000</td>\n",
       "      <td>0.000000</td>\n",
       "      <td>1.000000</td>\n",
       "      <td>1.000000</td>\n",
       "      <td>2.300000</td>\n",
       "    </tr>\n",
       "    <tr>\n",
       "      <th>25%</th>\n",
       "      <td>256.000000</td>\n",
       "      <td>5.900000</td>\n",
       "      <td>0.000000</td>\n",
       "      <td>1.000000</td>\n",
       "      <td>1.000000</td>\n",
       "      <td>4.500000</td>\n",
       "    </tr>\n",
       "    <tr>\n",
       "      <th>50%</th>\n",
       "      <td>585.000000</td>\n",
       "      <td>12.900000</td>\n",
       "      <td>3.000000</td>\n",
       "      <td>2.000000</td>\n",
       "      <td>1.000000</td>\n",
       "      <td>5.000000</td>\n",
       "    </tr>\n",
       "    <tr>\n",
       "      <th>75%</th>\n",
       "      <td>1387.000000</td>\n",
       "      <td>20.223681</td>\n",
       "      <td>7.000000</td>\n",
       "      <td>6.000000</td>\n",
       "      <td>2.000000</td>\n",
       "      <td>5.000000</td>\n",
       "    </tr>\n",
       "    <tr>\n",
       "      <th>max</th>\n",
       "      <td>2651.000000</td>\n",
       "      <td>100.000000</td>\n",
       "      <td>92.000000</td>\n",
       "      <td>41.000000</td>\n",
       "      <td>39.000000</td>\n",
       "      <td>5.000000</td>\n",
       "    </tr>\n",
       "  </tbody>\n",
       "</table>\n",
       "</div>"
      ],
      "text/plain": [
       "       manufacturer        price  number_available_in_stock  \\\n",
       "count   9995.000000  9995.000000                9995.000000   \n",
       "mean     852.413907    17.806834                   5.938969   \n",
       "std      749.576175    19.155208                   8.362873   \n",
       "min        0.000000     0.200000                   0.000000   \n",
       "25%      256.000000     5.900000                   0.000000   \n",
       "50%      585.000000    12.900000                   3.000000   \n",
       "75%     1387.000000    20.223681                   7.000000   \n",
       "max     2651.000000   100.000000                  92.000000   \n",
       "\n",
       "       number_of_reviews  number_of_answered_questions  average_review_rating  \n",
       "count        9995.000000                   9229.000000            9995.000000  \n",
       "mean            5.307464                      1.833676               4.707318  \n",
       "std             7.341247                      2.516045               0.371865  \n",
       "min             1.000000                      1.000000               2.300000  \n",
       "25%             1.000000                      1.000000               4.500000  \n",
       "50%             2.000000                      1.000000               5.000000  \n",
       "75%             6.000000                      2.000000               5.000000  \n",
       "max            41.000000                     39.000000               5.000000  "
      ]
     },
     "execution_count": 86,
     "metadata": {},
     "output_type": "execute_result"
    }
   ],
   "source": [
    "df.describe()"
   ]
  },
  {
   "cell_type": "code",
   "execution_count": 87,
   "id": "66fd38ca",
   "metadata": {
    "scrolled": true
   },
   "outputs": [
    {
     "data": {
      "text/plain": [
       "manufacturer                    0.777199\n",
       "price                           2.585891\n",
       "number_available_in_stock       2.961349\n",
       "number_of_reviews               2.346845\n",
       "number_of_answered_questions    7.833185\n",
       "average_review_rating          -0.943923\n",
       "dtype: float64"
      ]
     },
     "execution_count": 87,
     "metadata": {},
     "output_type": "execute_result"
    }
   ],
   "source": [
    "df.skew()"
   ]
  },
  {
   "cell_type": "code",
   "execution_count": 88,
   "id": "d9d633ac",
   "metadata": {
    "scrolled": true
   },
   "outputs": [
    {
     "data": {
      "text/html": [
       "<div>\n",
       "<style scoped>\n",
       "    .dataframe tbody tr th:only-of-type {\n",
       "        vertical-align: middle;\n",
       "    }\n",
       "\n",
       "    .dataframe tbody tr th {\n",
       "        vertical-align: top;\n",
       "    }\n",
       "\n",
       "    .dataframe thead th {\n",
       "        text-align: right;\n",
       "    }\n",
       "</style>\n",
       "<table border=\"1\" class=\"dataframe\">\n",
       "  <thead>\n",
       "    <tr style=\"text-align: right;\">\n",
       "      <th></th>\n",
       "      <th>manufacturer</th>\n",
       "      <th>price</th>\n",
       "      <th>number_available_in_stock</th>\n",
       "      <th>number_of_reviews</th>\n",
       "      <th>number_of_answered_questions</th>\n",
       "      <th>average_review_rating</th>\n",
       "    </tr>\n",
       "  </thead>\n",
       "  <tbody>\n",
       "    <tr>\n",
       "      <th>manufacturer</th>\n",
       "      <td>1.000000</td>\n",
       "      <td>-0.060461</td>\n",
       "      <td>-0.127474</td>\n",
       "      <td>-0.032182</td>\n",
       "      <td>-0.020641</td>\n",
       "      <td>0.004019</td>\n",
       "    </tr>\n",
       "    <tr>\n",
       "      <th>price</th>\n",
       "      <td>-0.060461</td>\n",
       "      <td>1.000000</td>\n",
       "      <td>0.009975</td>\n",
       "      <td>-0.051491</td>\n",
       "      <td>-0.014033</td>\n",
       "      <td>0.052384</td>\n",
       "    </tr>\n",
       "    <tr>\n",
       "      <th>number_available_in_stock</th>\n",
       "      <td>-0.127474</td>\n",
       "      <td>0.009975</td>\n",
       "      <td>1.000000</td>\n",
       "      <td>0.267941</td>\n",
       "      <td>0.016744</td>\n",
       "      <td>-0.020193</td>\n",
       "    </tr>\n",
       "    <tr>\n",
       "      <th>number_of_reviews</th>\n",
       "      <td>-0.032182</td>\n",
       "      <td>-0.051491</td>\n",
       "      <td>0.267941</td>\n",
       "      <td>1.000000</td>\n",
       "      <td>0.035236</td>\n",
       "      <td>-0.246317</td>\n",
       "    </tr>\n",
       "    <tr>\n",
       "      <th>number_of_answered_questions</th>\n",
       "      <td>-0.020641</td>\n",
       "      <td>-0.014033</td>\n",
       "      <td>0.016744</td>\n",
       "      <td>0.035236</td>\n",
       "      <td>1.000000</td>\n",
       "      <td>-0.025936</td>\n",
       "    </tr>\n",
       "    <tr>\n",
       "      <th>average_review_rating</th>\n",
       "      <td>0.004019</td>\n",
       "      <td>0.052384</td>\n",
       "      <td>-0.020193</td>\n",
       "      <td>-0.246317</td>\n",
       "      <td>-0.025936</td>\n",
       "      <td>1.000000</td>\n",
       "    </tr>\n",
       "  </tbody>\n",
       "</table>\n",
       "</div>"
      ],
      "text/plain": [
       "                              manufacturer     price  \\\n",
       "manufacturer                      1.000000 -0.060461   \n",
       "price                            -0.060461  1.000000   \n",
       "number_available_in_stock        -0.127474  0.009975   \n",
       "number_of_reviews                -0.032182 -0.051491   \n",
       "number_of_answered_questions     -0.020641 -0.014033   \n",
       "average_review_rating             0.004019  0.052384   \n",
       "\n",
       "                              number_available_in_stock  number_of_reviews  \\\n",
       "manufacturer                                  -0.127474          -0.032182   \n",
       "price                                          0.009975          -0.051491   \n",
       "number_available_in_stock                      1.000000           0.267941   \n",
       "number_of_reviews                              0.267941           1.000000   \n",
       "number_of_answered_questions                   0.016744           0.035236   \n",
       "average_review_rating                         -0.020193          -0.246317   \n",
       "\n",
       "                              number_of_answered_questions  \\\n",
       "manufacturer                                     -0.020641   \n",
       "price                                            -0.014033   \n",
       "number_available_in_stock                         0.016744   \n",
       "number_of_reviews                                 0.035236   \n",
       "number_of_answered_questions                      1.000000   \n",
       "average_review_rating                            -0.025936   \n",
       "\n",
       "                              average_review_rating  \n",
       "manufacturer                               0.004019  \n",
       "price                                      0.052384  \n",
       "number_available_in_stock                 -0.020193  \n",
       "number_of_reviews                         -0.246317  \n",
       "number_of_answered_questions              -0.025936  \n",
       "average_review_rating                      1.000000  "
      ]
     },
     "execution_count": 88,
     "metadata": {},
     "output_type": "execute_result"
    }
   ],
   "source": [
    "df.corr()"
   ]
  },
  {
   "cell_type": "code",
   "execution_count": 89,
   "id": "73fec54e",
   "metadata": {},
   "outputs": [
    {
     "name": "stdout",
     "output_type": "stream",
     "text": [
      "The top 5 manufacturers with the most number of products are: \n",
      "LEGO\n",
      "Disney\n",
      "Oxford Diecast\n",
      "Playmobil\n",
      "Star Wars\n"
     ]
    }
   ],
   "source": [
    "no_of_prod=df.groupby('manufacturer')['product_name'].count().sort_values(ascending=False)\n",
    "top_no_of_products=no_of_prod.index\n",
    "print(\"The top 5 manufacturers with the most number of products are: \")\n",
    "for i in range(0,5):\n",
    "    print(man_arr[int(top_no_of_products[i])])"
   ]
  },
  {
   "cell_type": "code",
   "execution_count": 90,
   "id": "5f52fc11",
   "metadata": {
    "scrolled": true
   },
   "outputs": [],
   "source": [
    "top_rated=df.groupby('manufacturer')['average_review_rating'].mean().sort_values(ascending=False)\n"
   ]
  },
  {
   "cell_type": "code",
   "execution_count": null,
   "id": "7f46f259",
   "metadata": {},
   "outputs": [],
   "source": []
  },
  {
   "cell_type": "code",
   "execution_count": 91,
   "id": "537f215c",
   "metadata": {},
   "outputs": [
    {
     "data": {
      "text/plain": [
       "2652"
      ]
     },
     "execution_count": 91,
     "metadata": {},
     "output_type": "execute_result"
    }
   ],
   "source": [
    "top_rated.count()"
   ]
  },
  {
   "cell_type": "code",
   "execution_count": 92,
   "id": "f3b862d2",
   "metadata": {
    "scrolled": true
   },
   "outputs": [
    {
     "data": {
      "text/plain": [
       "1489"
      ]
     },
     "execution_count": 92,
     "metadata": {},
     "output_type": "execute_result"
    }
   ],
   "source": [
    "top_rated[(top_rated>4.7)].count()"
   ]
  },
  {
   "cell_type": "code",
   "execution_count": 93,
   "id": "f08e2fa5",
   "metadata": {
    "scrolled": true
   },
   "outputs": [
    {
     "data": {
      "text/plain": [
       "(array([275], dtype=int64),)"
      ]
     },
     "execution_count": 93,
     "metadata": {},
     "output_type": "execute_result"
    }
   ],
   "source": [
    "np.where(man_arr=='LEGO')"
   ]
  },
  {
   "cell_type": "code",
   "execution_count": 94,
   "id": "e8655700",
   "metadata": {},
   "outputs": [],
   "source": [
    "num1=df[(df['manufacturer']==0)]"
   ]
  },
  {
   "cell_type": "code",
   "execution_count": 95,
   "id": "538f95cd",
   "metadata": {
    "scrolled": true
   },
   "outputs": [
    {
     "data": {
      "image/png": "[encoded data removed]",
      "text/plain": [
       "<Figure size 800x600 with 1 Axes>"
      ]
     },
     "metadata": {},
     "output_type": "display_data"
    }
   ],
   "source": [
    "plt.figure(figsize=(8, 6))\n",
    "sns.histplot(data=num1, x='price', bins=20, kde=True, color='blue')\n",
    "plt.title('Distribution of Price')\n",
    "plt.xlabel('Price')\n",
    "plt.ylabel('Frequency')\n",
    "plt.show()"
   ]
  },
  {
   "cell_type": "code",
   "execution_count": 96,
   "id": "23bf029a",
   "metadata": {},
   "outputs": [
    {
     "data": {
      "text/html": [
       "<div>\n",
       "<style scoped>\n",
       "    .dataframe tbody tr th:only-of-type {\n",
       "        vertical-align: middle;\n",
       "    }\n",
       "\n",
       "    .dataframe tbody tr th {\n",
       "        vertical-align: top;\n",
       "    }\n",
       "\n",
       "    .dataframe thead th {\n",
       "        text-align: right;\n",
       "    }\n",
       "</style>\n",
       "<table border=\"1\" class=\"dataframe\">\n",
       "  <thead>\n",
       "    <tr style=\"text-align: right;\">\n",
       "      <th></th>\n",
       "      <th>uniq_id</th>\n",
       "      <th>product_name</th>\n",
       "      <th>manufacturer</th>\n",
       "      <th>price</th>\n",
       "      <th>number_available_in_stock</th>\n",
       "      <th>number_of_reviews</th>\n",
       "      <th>number_of_answered_questions</th>\n",
       "      <th>average_review_rating</th>\n",
       "      <th>description</th>\n",
       "      <th>product_information</th>\n",
       "      <th>product_description</th>\n",
       "      <th>items_customers_buy_after_viewing_this_item</th>\n",
       "      <th>category</th>\n",
       "      <th>subcategory</th>\n",
       "    </tr>\n",
       "  </thead>\n",
       "  <tbody>\n",
       "    <tr>\n",
       "      <th>0</th>\n",
       "      <td>eac7efa5dbd3d667f26eb3d3ab504464</td>\n",
       "      <td>Hornby 2014 Catalogue</td>\n",
       "      <td>0.0</td>\n",
       "      <td>3.4</td>\n",
       "      <td>5.0</td>\n",
       "      <td>15.0</td>\n",
       "      <td>1.0</td>\n",
       "      <td>4.9</td>\n",
       "      <td>Product Description Hornby 2014 Catalogue Box ...</td>\n",
       "      <td>Technical Details Item Weight640 g Product Dim...</td>\n",
       "      <td>Product Description Hornby 2014 Catalogue Box ...</td>\n",
       "      <td>http://www.amazon.co.uk/Hornby-R8150-Catalogue...</td>\n",
       "      <td>Hobbies</td>\n",
       "      <td>Model Trains &amp; Railway Sets</td>\n",
       "    </tr>\n",
       "    <tr>\n",
       "      <th>1</th>\n",
       "      <td>b17540ef7e86e461d37f3ae58b7b72ac</td>\n",
       "      <td>FunkyBuys® Large Christmas Holiday Express Fes...</td>\n",
       "      <td>1.0</td>\n",
       "      <td>16.9</td>\n",
       "      <td>0.0</td>\n",
       "      <td>2.0</td>\n",
       "      <td>1.0</td>\n",
       "      <td>4.5</td>\n",
       "      <td>Size Name:Large FunkyBuys® Large Christmas Hol...</td>\n",
       "      <td>Technical Details Manufacturer recommended age...</td>\n",
       "      <td>Size Name:Large FunkyBuys® Large Christmas Hol...</td>\n",
       "      <td>http://www.amazon.co.uk/Christmas-Holiday-Expr...</td>\n",
       "      <td>Hobbies</td>\n",
       "      <td>Model Trains &amp; Railway Sets</td>\n",
       "    </tr>\n",
       "    <tr>\n",
       "      <th>2</th>\n",
       "      <td>348f344247b0c1a935b1223072ef9d8a</td>\n",
       "      <td>CLASSIC TOY TRAIN SET TRACK CARRIAGES LIGHT EN...</td>\n",
       "      <td>2.0</td>\n",
       "      <td>9.9</td>\n",
       "      <td>2.0</td>\n",
       "      <td>17.0</td>\n",
       "      <td>2.0</td>\n",
       "      <td>3.9</td>\n",
       "      <td>BIG CLASSIC TOY TRAIN SET TRACK CARRIAGE LIGHT...</td>\n",
       "      <td>Technical Details Manufacturer recommended age...</td>\n",
       "      <td>BIG CLASSIC TOY TRAIN SET TRACK CARRIAGE LIGHT...</td>\n",
       "      <td>http://www.amazon.co.uk/Train-With-Tracks-Batt...</td>\n",
       "      <td>Hobbies</td>\n",
       "      <td>Model Trains &amp; Railway Sets</td>\n",
       "    </tr>\n",
       "    <tr>\n",
       "      <th>3</th>\n",
       "      <td>e12b92dbb8eaee78b22965d2a9bbbd9f</td>\n",
       "      <td>HORNBY Coach R4410A BR Hawksworth Corridor 3rd</td>\n",
       "      <td>0.0</td>\n",
       "      <td>39.9</td>\n",
       "      <td>0.0</td>\n",
       "      <td>1.0</td>\n",
       "      <td>2.0</td>\n",
       "      <td>5.0</td>\n",
       "      <td>Hornby 00 Gauge BR Hawksworth 3rd Class W 2107...</td>\n",
       "      <td>Technical Details Item Weight259 g Product Dim...</td>\n",
       "      <td>Hornby 00 Gauge BR Hawksworth 3rd Class W 2107...</td>\n",
       "      <td>NaN</td>\n",
       "      <td>Hobbies</td>\n",
       "      <td>Model Trains &amp; Railway Sets</td>\n",
       "    </tr>\n",
       "    <tr>\n",
       "      <th>4</th>\n",
       "      <td>e33a9adeed5f36840ccc227db4682a36</td>\n",
       "      <td>Hornby 00 Gauge 0-4-0 Gildenlow Salt Co. Steam...</td>\n",
       "      <td>0.0</td>\n",
       "      <td>32.1</td>\n",
       "      <td>0.0</td>\n",
       "      <td>3.0</td>\n",
       "      <td>2.0</td>\n",
       "      <td>4.7</td>\n",
       "      <td>Product Description Hornby RailRoad 0-4-0 Gild...</td>\n",
       "      <td>Technical Details Item Weight159 g Product Dim...</td>\n",
       "      <td>Product Description Hornby RailRoad 0-4-0 Gild...</td>\n",
       "      <td>http://www.amazon.co.uk/Hornby-R2672-RailRoad-...</td>\n",
       "      <td>Hobbies</td>\n",
       "      <td>Model Trains &amp; Railway Sets</td>\n",
       "    </tr>\n",
       "    <tr>\n",
       "      <th>...</th>\n",
       "      <td>...</td>\n",
       "      <td>...</td>\n",
       "      <td>...</td>\n",
       "      <td>...</td>\n",
       "      <td>...</td>\n",
       "      <td>...</td>\n",
       "      <td>...</td>\n",
       "      <td>...</td>\n",
       "      <td>...</td>\n",
       "      <td>...</td>\n",
       "      <td>...</td>\n",
       "      <td>...</td>\n",
       "      <td>...</td>\n",
       "      <td>...</td>\n",
       "    </tr>\n",
       "    <tr>\n",
       "      <th>9990</th>\n",
       "      <td>44d6967f083825a5de36ad4865a65bcd</td>\n",
       "      <td>Batman 1966 TV Series Action Figures - The Rid...</td>\n",
       "      <td>31.0</td>\n",
       "      <td>22.9</td>\n",
       "      <td>5.0</td>\n",
       "      <td>3.0</td>\n",
       "      <td>3.0</td>\n",
       "      <td>5.0</td>\n",
       "      <td>DC 66 Batman Classic TV Series 6 Inch Riddler ...</td>\n",
       "      <td>Technical Details Item Weight136 g Product Dim...</td>\n",
       "      <td>DC 66 Batman Classic TV Series 6 Inch Riddler ...</td>\n",
       "      <td>NaN</td>\n",
       "      <td>Hobbies</td>\n",
       "      <td>Collectible Figures &amp; Memorabilia</td>\n",
       "    </tr>\n",
       "    <tr>\n",
       "      <th>9991</th>\n",
       "      <td>08f0747b6fc6687215ffb994c3a6fb32</td>\n",
       "      <td>Star Wars Costume, Kids Stormtrooper Costume S...</td>\n",
       "      <td>90.0</td>\n",
       "      <td>39.9</td>\n",
       "      <td>0.0</td>\n",
       "      <td>1.0</td>\n",
       "      <td>3.0</td>\n",
       "      <td>4.0</td>\n",
       "      <td>NaN</td>\n",
       "      <td>Technical Details    Additional Information AS...</td>\n",
       "      <td>NaN</td>\n",
       "      <td>http://www.amazon.co.uk/Storm-Trooper-Costume-...</td>\n",
       "      <td>Characters &amp; Brands</td>\n",
       "      <td>Star Wars</td>\n",
       "    </tr>\n",
       "    <tr>\n",
       "      <th>9992</th>\n",
       "      <td>bf6cc073f8f24e6e338190fa16f6ee9d</td>\n",
       "      <td>Defiance Lawkeeper Metal Badge Prop Replica</td>\n",
       "      <td>2358.0</td>\n",
       "      <td>43.9</td>\n",
       "      <td>3.0</td>\n",
       "      <td>1.0</td>\n",
       "      <td>3.0</td>\n",
       "      <td>5.0</td>\n",
       "      <td>*Includes 1x Badge with holder and chain *High...</td>\n",
       "      <td>Technical Details Item Weight159 g Product Dim...</td>\n",
       "      <td>*Includes 1x Badge with holder and chain *High...</td>\n",
       "      <td>http://www.amazon.co.uk/Olde-Scotland-Yard-Ltd...</td>\n",
       "      <td>Novelty &amp; Special Use</td>\n",
       "      <td>Novelty</td>\n",
       "    </tr>\n",
       "    <tr>\n",
       "      <th>9993</th>\n",
       "      <td>cd783d0b8b44e631b9788b203eaaefae</td>\n",
       "      <td>Justice League of America Series 3 Green Lante...</td>\n",
       "      <td>180.0</td>\n",
       "      <td>49.8</td>\n",
       "      <td>3.0</td>\n",
       "      <td>1.0</td>\n",
       "      <td>3.0</td>\n",
       "      <td>5.0</td>\n",
       "      <td>Designed by Ed BenesIt's here - the third seri...</td>\n",
       "      <td>Technical Details Item Weight181 g Product Dim...</td>\n",
       "      <td>Designed by Ed BenesIt's here - the third seri...</td>\n",
       "      <td>NaN</td>\n",
       "      <td>Hobbies</td>\n",
       "      <td>Collectible Figures &amp; Memorabilia</td>\n",
       "    </tr>\n",
       "    <tr>\n",
       "      <th>9994</th>\n",
       "      <td>94d18e86e504bee1e392df7e5738b18a</td>\n",
       "      <td>Star Wars 1/72 Y-Wing Starfighter</td>\n",
       "      <td>43.0</td>\n",
       "      <td>21.2</td>\n",
       "      <td>31.0</td>\n",
       "      <td>11.0</td>\n",
       "      <td>3.0</td>\n",
       "      <td>4.5</td>\n",
       "      <td>NaN</td>\n",
       "      <td>Technical Details Item Weight299 g Product Dim...</td>\n",
       "      <td>NaN</td>\n",
       "      <td>NaN</td>\n",
       "      <td>Characters &amp; Brands</td>\n",
       "      <td>Star Wars</td>\n",
       "    </tr>\n",
       "  </tbody>\n",
       "</table>\n",
       "<p>9995 rows × 14 columns</p>\n",
       "</div>"
      ],
      "text/plain": [
       "                               uniq_id  \\\n",
       "0     eac7efa5dbd3d667f26eb3d3ab504464   \n",
       "1     b17540ef7e86e461d37f3ae58b7b72ac   \n",
       "2     348f344247b0c1a935b1223072ef9d8a   \n",
       "3     e12b92dbb8eaee78b22965d2a9bbbd9f   \n",
       "4     e33a9adeed5f36840ccc227db4682a36   \n",
       "...                                ...   \n",
       "9990  44d6967f083825a5de36ad4865a65bcd   \n",
       "9991  08f0747b6fc6687215ffb994c3a6fb32   \n",
       "9992  bf6cc073f8f24e6e338190fa16f6ee9d   \n",
       "9993  cd783d0b8b44e631b9788b203eaaefae   \n",
       "9994  94d18e86e504bee1e392df7e5738b18a   \n",
       "\n",
       "                                           product_name  manufacturer  price  \\\n",
       "0                                 Hornby 2014 Catalogue           0.0    3.4   \n",
       "1     FunkyBuys® Large Christmas Holiday Express Fes...           1.0   16.9   \n",
       "2     CLASSIC TOY TRAIN SET TRACK CARRIAGES LIGHT EN...           2.0    9.9   \n",
       "3        HORNBY Coach R4410A BR Hawksworth Corridor 3rd           0.0   39.9   \n",
       "4     Hornby 00 Gauge 0-4-0 Gildenlow Salt Co. Steam...           0.0   32.1   \n",
       "...                                                 ...           ...    ...   \n",
       "9990  Batman 1966 TV Series Action Figures - The Rid...          31.0   22.9   \n",
       "9991  Star Wars Costume, Kids Stormtrooper Costume S...          90.0   39.9   \n",
       "9992        Defiance Lawkeeper Metal Badge Prop Replica        2358.0   43.9   \n",
       "9993  Justice League of America Series 3 Green Lante...         180.0   49.8   \n",
       "9994                  Star Wars 1/72 Y-Wing Starfighter          43.0   21.2   \n",
       "\n",
       "      number_available_in_stock  number_of_reviews  \\\n",
       "0                           5.0               15.0   \n",
       "1                           0.0                2.0   \n",
       "2                           2.0               17.0   \n",
       "3                           0.0                1.0   \n",
       "4                           0.0                3.0   \n",
       "...                         ...                ...   \n",
       "9990                        5.0                3.0   \n",
       "9991                        0.0                1.0   \n",
       "9992                        3.0                1.0   \n",
       "9993                        3.0                1.0   \n",
       "9994                       31.0               11.0   \n",
       "\n",
       "      number_of_answered_questions  average_review_rating  \\\n",
       "0                              1.0                    4.9   \n",
       "1                              1.0                    4.5   \n",
       "2                              2.0                    3.9   \n",
       "3                              2.0                    5.0   \n",
       "4                              2.0                    4.7   \n",
       "...                            ...                    ...   \n",
       "9990                           3.0                    5.0   \n",
       "9991                           3.0                    4.0   \n",
       "9992                           3.0                    5.0   \n",
       "9993                           3.0                    5.0   \n",
       "9994                           3.0                    4.5   \n",
       "\n",
       "                                            description  \\\n",
       "0     Product Description Hornby 2014 Catalogue Box ...   \n",
       "1     Size Name:Large FunkyBuys® Large Christmas Hol...   \n",
       "2     BIG CLASSIC TOY TRAIN SET TRACK CARRIAGE LIGHT...   \n",
       "3     Hornby 00 Gauge BR Hawksworth 3rd Class W 2107...   \n",
       "4     Product Description Hornby RailRoad 0-4-0 Gild...   \n",
       "...                                                 ...   \n",
       "9990  DC 66 Batman Classic TV Series 6 Inch Riddler ...   \n",
       "9991                                                NaN   \n",
       "9992  *Includes 1x Badge with holder and chain *High...   \n",
       "9993  Designed by Ed BenesIt's here - the third seri...   \n",
       "9994                                                NaN   \n",
       "\n",
       "                                    product_information  \\\n",
       "0     Technical Details Item Weight640 g Product Dim...   \n",
       "1     Technical Details Manufacturer recommended age...   \n",
       "2     Technical Details Manufacturer recommended age...   \n",
       "3     Technical Details Item Weight259 g Product Dim...   \n",
       "4     Technical Details Item Weight159 g Product Dim...   \n",
       "...                                                 ...   \n",
       "9990  Technical Details Item Weight136 g Product Dim...   \n",
       "9991  Technical Details    Additional Information AS...   \n",
       "9992  Technical Details Item Weight159 g Product Dim...   \n",
       "9993  Technical Details Item Weight181 g Product Dim...   \n",
       "9994  Technical Details Item Weight299 g Product Dim...   \n",
       "\n",
       "                                    product_description  \\\n",
       "0     Product Description Hornby 2014 Catalogue Box ...   \n",
       "1     Size Name:Large FunkyBuys® Large Christmas Hol...   \n",
       "2     BIG CLASSIC TOY TRAIN SET TRACK CARRIAGE LIGHT...   \n",
       "3     Hornby 00 Gauge BR Hawksworth 3rd Class W 2107...   \n",
       "4     Product Description Hornby RailRoad 0-4-0 Gild...   \n",
       "...                                                 ...   \n",
       "9990  DC 66 Batman Classic TV Series 6 Inch Riddler ...   \n",
       "9991                                                NaN   \n",
       "9992  *Includes 1x Badge with holder and chain *High...   \n",
       "9993  Designed by Ed BenesIt's here - the third seri...   \n",
       "9994                                                NaN   \n",
       "\n",
       "            items_customers_buy_after_viewing_this_item  \\\n",
       "0     http://www.amazon.co.uk/Hornby-R8150-Catalogue...   \n",
       "1     http://www.amazon.co.uk/Christmas-Holiday-Expr...   \n",
       "2     http://www.amazon.co.uk/Train-With-Tracks-Batt...   \n",
       "3                                                   NaN   \n",
       "4     http://www.amazon.co.uk/Hornby-R2672-RailRoad-...   \n",
       "...                                                 ...   \n",
       "9990                                                NaN   \n",
       "9991  http://www.amazon.co.uk/Storm-Trooper-Costume-...   \n",
       "9992  http://www.amazon.co.uk/Olde-Scotland-Yard-Ltd...   \n",
       "9993                                                NaN   \n",
       "9994                                                NaN   \n",
       "\n",
       "                   category                        subcategory  \n",
       "0                   Hobbies        Model Trains & Railway Sets  \n",
       "1                   Hobbies        Model Trains & Railway Sets  \n",
       "2                   Hobbies        Model Trains & Railway Sets  \n",
       "3                   Hobbies        Model Trains & Railway Sets  \n",
       "4                   Hobbies        Model Trains & Railway Sets  \n",
       "...                     ...                                ...  \n",
       "9990                Hobbies  Collectible Figures & Memorabilia  \n",
       "9991    Characters & Brands                          Star Wars  \n",
       "9992  Novelty & Special Use                            Novelty  \n",
       "9993                Hobbies  Collectible Figures & Memorabilia  \n",
       "9994    Characters & Brands                          Star Wars  \n",
       "\n",
       "[9995 rows x 14 columns]"
      ]
     },
     "execution_count": 96,
     "metadata": {},
     "output_type": "execute_result"
    }
   ],
   "source": [
    "df"
   ]
  },
  {
   "cell_type": "code",
   "execution_count": 97,
   "id": "26f581d7",
   "metadata": {},
   "outputs": [],
   "source": [
    "\n",
    "#df.to_csv('Amazon_Products_clean.csv', index=False)\n"
   ]
  },
  {
   "cell_type": "code",
   "execution_count": 98,
   "id": "ab2e3095",
   "metadata": {},
   "outputs": [],
   "source": [
    "\n",
    "#df2.to_csv('Amazon_category.csv', index=False)\n",
    "\n",
    "#df3.to_csv('Amazon_subcategory.csv', index=False)\n"
   ]
  },
  {
   "cell_type": "code",
   "execution_count": 99,
   "id": "a0f7c83d",
   "metadata": {
    "scrolled": false
   },
   "outputs": [
    {
     "data": {
      "text/plain": [
       "array([['Hornby', 'FunkyBuys', 'ccf', ..., 'Captain america', 'IronMan',\n",
       "        'Super Heroes']], dtype=object)"
      ]
     },
     "execution_count": 99,
     "metadata": {},
     "output_type": "execute_result"
    }
   ],
   "source": [
    "np.reshape(man_arr,(1,-1))"
   ]
  },
  {
   "cell_type": "code",
   "execution_count": 100,
   "id": "6d4df952",
   "metadata": {},
   "outputs": [],
   "source": [
    "ManArr=pd.DataFrame(man_arr)"
   ]
  },
  {
   "cell_type": "code",
   "execution_count": 101,
   "id": "9888d84c",
   "metadata": {},
   "outputs": [
    {
     "data": {
      "text/html": [
       "<div>\n",
       "<style scoped>\n",
       "    .dataframe tbody tr th:only-of-type {\n",
       "        vertical-align: middle;\n",
       "    }\n",
       "\n",
       "    .dataframe tbody tr th {\n",
       "        vertical-align: top;\n",
       "    }\n",
       "\n",
       "    .dataframe thead th {\n",
       "        text-align: right;\n",
       "    }\n",
       "</style>\n",
       "<table border=\"1\" class=\"dataframe\">\n",
       "  <thead>\n",
       "    <tr style=\"text-align: right;\">\n",
       "      <th></th>\n",
       "      <th>0</th>\n",
       "    </tr>\n",
       "  </thead>\n",
       "  <tbody>\n",
       "    <tr>\n",
       "      <th>0</th>\n",
       "      <td>Hornby</td>\n",
       "    </tr>\n",
       "    <tr>\n",
       "      <th>1</th>\n",
       "      <td>FunkyBuys</td>\n",
       "    </tr>\n",
       "    <tr>\n",
       "      <th>2</th>\n",
       "      <td>ccf</td>\n",
       "    </tr>\n",
       "    <tr>\n",
       "      <th>3</th>\n",
       "      <td>Generic</td>\n",
       "    </tr>\n",
       "    <tr>\n",
       "      <th>4</th>\n",
       "      <td>Chuggington</td>\n",
       "    </tr>\n",
       "    <tr>\n",
       "      <th>...</th>\n",
       "      <td>...</td>\n",
       "    </tr>\n",
       "    <tr>\n",
       "      <th>2647</th>\n",
       "      <td>Feldherr</td>\n",
       "    </tr>\n",
       "    <tr>\n",
       "      <th>2648</th>\n",
       "      <td>GGS</td>\n",
       "    </tr>\n",
       "    <tr>\n",
       "      <th>2649</th>\n",
       "      <td>Captain america</td>\n",
       "    </tr>\n",
       "    <tr>\n",
       "      <th>2650</th>\n",
       "      <td>IronMan</td>\n",
       "    </tr>\n",
       "    <tr>\n",
       "      <th>2651</th>\n",
       "      <td>Super Heroes</td>\n",
       "    </tr>\n",
       "  </tbody>\n",
       "</table>\n",
       "<p>2652 rows × 1 columns</p>\n",
       "</div>"
      ],
      "text/plain": [
       "                    0\n",
       "0              Hornby\n",
       "1           FunkyBuys\n",
       "2                 ccf\n",
       "3             Generic\n",
       "4         Chuggington\n",
       "...               ...\n",
       "2647         Feldherr\n",
       "2648              GGS\n",
       "2649  Captain america\n",
       "2650          IronMan\n",
       "2651     Super Heroes\n",
       "\n",
       "[2652 rows x 1 columns]"
      ]
     },
     "execution_count": 101,
     "metadata": {},
     "output_type": "execute_result"
    }
   ],
   "source": [
    "ManArr"
   ]
  },
  {
   "cell_type": "code",
   "execution_count": 102,
   "id": "fac3b541",
   "metadata": {},
   "outputs": [],
   "source": [
    "#no_of_prod.to_csv('ManToFreq.csv',index=False)\n",
    "#ManArr.to_csv('ManArr.csv',index=False)"
   ]
  },
  {
   "cell_type": "code",
   "execution_count": 103,
   "id": "134902f9",
   "metadata": {
    "scrolled": false
   },
   "outputs": [],
   "source": [
    "links=df.items_customers_buy_after_viewing_this_item\n",
    "links=links.astype('str')"
   ]
  },
  {
   "cell_type": "code",
   "execution_count": 104,
   "id": "7e9b5b12",
   "metadata": {},
   "outputs": [],
   "source": [
    "def links_handle(value):\n",
    "    values=value.split(' | ')\n",
    "    return values"
   ]
  },
  {
   "cell_type": "code",
   "execution_count": 105,
   "id": "bc520057",
   "metadata": {},
   "outputs": [],
   "source": [
    "links=links.apply(links_handle)"
   ]
  },
  {
   "cell_type": "code",
   "execution_count": 106,
   "id": "586f248b",
   "metadata": {},
   "outputs": [
    {
     "data": {
      "text/plain": [
       "24"
      ]
     },
     "execution_count": 106,
     "metadata": {},
     "output_type": "execute_result"
    }
   ],
   "source": [
    "len(\"http://www.amazon.co.uk/\")"
   ]
  },
  {
   "cell_type": "code",
   "execution_count": 107,
   "id": "bc0e707e",
   "metadata": {},
   "outputs": [
    {
     "data": {
      "text/plain": [
       "9995"
      ]
     },
     "execution_count": 107,
     "metadata": {},
     "output_type": "execute_result"
    }
   ],
   "source": [
    "len(df)"
   ]
  },
  {
   "cell_type": "code",
   "execution_count": 108,
   "id": "278e1445",
   "metadata": {
    "scrolled": true
   },
   "outputs": [
    {
     "name": "stdout",
     "output_type": "stream",
     "text": [
      "Hornby R8150 Catalogue 2015 \n",
      "Train With Tracks Battery Operated x \n",
      "Christmas Holiday Express Festive Train Set Toy \n",
      "['{\"\"text\"\":\"\"Fire TV\"\"']\n",
      "['{\"\"text\"\":\"\"Fire TV\"\"']\n"
     ]
    }
   ],
   "source": [
    "for iter in range(0,len(links)):\n",
    "    i=links[iter]\n",
    "    try:\n",
    "        if i[0]!='nan':\n",
    "            m=i[0].split('/')[3]\n",
    "            n=m.split('-')\n",
    "            vr=\"\"\n",
    "            for iter in range(0,len(n)):\n",
    "                vr+=n[iter]+\" \"\n",
    "            \n",
    "            \n",
    "            links[iter]=vr\n",
    "            \n",
    "    except:\n",
    "        print(i)"
   ]
  },
  {
   "cell_type": "code",
   "execution_count": null,
   "id": "b98bebb9",
   "metadata": {},
   "outputs": [],
   "source": []
  },
  {
   "cell_type": "code",
   "execution_count": 109,
   "id": "21cd6de9",
   "metadata": {
    "scrolled": false
   },
   "outputs": [
    {
     "data": {
      "text/plain": [
       "0                                            Waddingtons \n",
       "1                                         The Creativity \n",
       "2                                 Star Comics Stationery \n",
       "3                      Playskool Heroes Super Adventures \n",
       "4                       Olde Scotland Yard Ltd Lawkeeper \n",
       "                              ...                        \n",
       "9990                                                [nan]\n",
       "9991    [http://www.amazon.co.uk/Storm-Trooper-Costume...\n",
       "9992    [http://www.amazon.co.uk/Olde-Scotland-Yard-Lt...\n",
       "9993                                                [nan]\n",
       "9994                                                [nan]\n",
       "Name: items_customers_buy_after_viewing_this_item, Length: 9995, dtype: object"
      ]
     },
     "execution_count": 109,
     "metadata": {},
     "output_type": "execute_result"
    }
   ],
   "source": [
    "links"
   ]
  },
  {
   "cell_type": "code",
   "execution_count": 110,
   "id": "5b743e2e",
   "metadata": {
    "scrolled": true
   },
   "outputs": [],
   "source": [
    "df.items_customers_buy_after_viewing_this_item = links"
   ]
  },
  {
   "cell_type": "code",
   "execution_count": 111,
   "id": "4e1cface",
   "metadata": {},
   "outputs": [
    {
     "data": {
      "text/html": [
       "<div>\n",
       "<style scoped>\n",
       "    .dataframe tbody tr th:only-of-type {\n",
       "        vertical-align: middle;\n",
       "    }\n",
       "\n",
       "    .dataframe tbody tr th {\n",
       "        vertical-align: top;\n",
       "    }\n",
       "\n",
       "    .dataframe thead th {\n",
       "        text-align: right;\n",
       "    }\n",
       "</style>\n",
       "<table border=\"1\" class=\"dataframe\">\n",
       "  <thead>\n",
       "    <tr style=\"text-align: right;\">\n",
       "      <th></th>\n",
       "      <th>uniq_id</th>\n",
       "      <th>product_name</th>\n",
       "      <th>manufacturer</th>\n",
       "      <th>price</th>\n",
       "      <th>number_available_in_stock</th>\n",
       "      <th>number_of_reviews</th>\n",
       "      <th>number_of_answered_questions</th>\n",
       "      <th>average_review_rating</th>\n",
       "      <th>description</th>\n",
       "      <th>product_information</th>\n",
       "      <th>product_description</th>\n",
       "      <th>items_customers_buy_after_viewing_this_item</th>\n",
       "      <th>category</th>\n",
       "      <th>subcategory</th>\n",
       "    </tr>\n",
       "  </thead>\n",
       "  <tbody>\n",
       "    <tr>\n",
       "      <th>0</th>\n",
       "      <td>eac7efa5dbd3d667f26eb3d3ab504464</td>\n",
       "      <td>Hornby 2014 Catalogue</td>\n",
       "      <td>0.0</td>\n",
       "      <td>3.4</td>\n",
       "      <td>5.0</td>\n",
       "      <td>15.0</td>\n",
       "      <td>1.0</td>\n",
       "      <td>4.9</td>\n",
       "      <td>Product Description Hornby 2014 Catalogue Box ...</td>\n",
       "      <td>Technical Details Item Weight640 g Product Dim...</td>\n",
       "      <td>Product Description Hornby 2014 Catalogue Box ...</td>\n",
       "      <td>Waddingtons</td>\n",
       "      <td>Hobbies</td>\n",
       "      <td>Model Trains &amp; Railway Sets</td>\n",
       "    </tr>\n",
       "    <tr>\n",
       "      <th>1</th>\n",
       "      <td>b17540ef7e86e461d37f3ae58b7b72ac</td>\n",
       "      <td>FunkyBuys® Large Christmas Holiday Express Fes...</td>\n",
       "      <td>1.0</td>\n",
       "      <td>16.9</td>\n",
       "      <td>0.0</td>\n",
       "      <td>2.0</td>\n",
       "      <td>1.0</td>\n",
       "      <td>4.5</td>\n",
       "      <td>Size Name:Large FunkyBuys® Large Christmas Hol...</td>\n",
       "      <td>Technical Details Manufacturer recommended age...</td>\n",
       "      <td>Size Name:Large FunkyBuys® Large Christmas Hol...</td>\n",
       "      <td>The Creativity</td>\n",
       "      <td>Hobbies</td>\n",
       "      <td>Model Trains &amp; Railway Sets</td>\n",
       "    </tr>\n",
       "    <tr>\n",
       "      <th>2</th>\n",
       "      <td>348f344247b0c1a935b1223072ef9d8a</td>\n",
       "      <td>CLASSIC TOY TRAIN SET TRACK CARRIAGES LIGHT EN...</td>\n",
       "      <td>2.0</td>\n",
       "      <td>9.9</td>\n",
       "      <td>2.0</td>\n",
       "      <td>17.0</td>\n",
       "      <td>2.0</td>\n",
       "      <td>3.9</td>\n",
       "      <td>BIG CLASSIC TOY TRAIN SET TRACK CARRIAGE LIGHT...</td>\n",
       "      <td>Technical Details Manufacturer recommended age...</td>\n",
       "      <td>BIG CLASSIC TOY TRAIN SET TRACK CARRIAGE LIGHT...</td>\n",
       "      <td>Star Comics Stationery</td>\n",
       "      <td>Hobbies</td>\n",
       "      <td>Model Trains &amp; Railway Sets</td>\n",
       "    </tr>\n",
       "    <tr>\n",
       "      <th>3</th>\n",
       "      <td>e12b92dbb8eaee78b22965d2a9bbbd9f</td>\n",
       "      <td>HORNBY Coach R4410A BR Hawksworth Corridor 3rd</td>\n",
       "      <td>0.0</td>\n",
       "      <td>39.9</td>\n",
       "      <td>0.0</td>\n",
       "      <td>1.0</td>\n",
       "      <td>2.0</td>\n",
       "      <td>5.0</td>\n",
       "      <td>Hornby 00 Gauge BR Hawksworth 3rd Class W 2107...</td>\n",
       "      <td>Technical Details Item Weight259 g Product Dim...</td>\n",
       "      <td>Hornby 00 Gauge BR Hawksworth 3rd Class W 2107...</td>\n",
       "      <td>Playskool Heroes Super Adventures</td>\n",
       "      <td>Hobbies</td>\n",
       "      <td>Model Trains &amp; Railway Sets</td>\n",
       "    </tr>\n",
       "    <tr>\n",
       "      <th>4</th>\n",
       "      <td>e33a9adeed5f36840ccc227db4682a36</td>\n",
       "      <td>Hornby 00 Gauge 0-4-0 Gildenlow Salt Co. Steam...</td>\n",
       "      <td>0.0</td>\n",
       "      <td>32.1</td>\n",
       "      <td>0.0</td>\n",
       "      <td>3.0</td>\n",
       "      <td>2.0</td>\n",
       "      <td>4.7</td>\n",
       "      <td>Product Description Hornby RailRoad 0-4-0 Gild...</td>\n",
       "      <td>Technical Details Item Weight159 g Product Dim...</td>\n",
       "      <td>Product Description Hornby RailRoad 0-4-0 Gild...</td>\n",
       "      <td>Olde Scotland Yard Ltd Lawkeeper</td>\n",
       "      <td>Hobbies</td>\n",
       "      <td>Model Trains &amp; Railway Sets</td>\n",
       "    </tr>\n",
       "    <tr>\n",
       "      <th>...</th>\n",
       "      <td>...</td>\n",
       "      <td>...</td>\n",
       "      <td>...</td>\n",
       "      <td>...</td>\n",
       "      <td>...</td>\n",
       "      <td>...</td>\n",
       "      <td>...</td>\n",
       "      <td>...</td>\n",
       "      <td>...</td>\n",
       "      <td>...</td>\n",
       "      <td>...</td>\n",
       "      <td>...</td>\n",
       "      <td>...</td>\n",
       "      <td>...</td>\n",
       "    </tr>\n",
       "    <tr>\n",
       "      <th>9990</th>\n",
       "      <td>44d6967f083825a5de36ad4865a65bcd</td>\n",
       "      <td>Batman 1966 TV Series Action Figures - The Rid...</td>\n",
       "      <td>31.0</td>\n",
       "      <td>22.9</td>\n",
       "      <td>5.0</td>\n",
       "      <td>3.0</td>\n",
       "      <td>3.0</td>\n",
       "      <td>5.0</td>\n",
       "      <td>DC 66 Batman Classic TV Series 6 Inch Riddler ...</td>\n",
       "      <td>Technical Details Item Weight136 g Product Dim...</td>\n",
       "      <td>DC 66 Batman Classic TV Series 6 Inch Riddler ...</td>\n",
       "      <td>[nan]</td>\n",
       "      <td>Hobbies</td>\n",
       "      <td>Collectible Figures &amp; Memorabilia</td>\n",
       "    </tr>\n",
       "    <tr>\n",
       "      <th>9991</th>\n",
       "      <td>08f0747b6fc6687215ffb994c3a6fb32</td>\n",
       "      <td>Star Wars Costume, Kids Stormtrooper Costume S...</td>\n",
       "      <td>90.0</td>\n",
       "      <td>39.9</td>\n",
       "      <td>0.0</td>\n",
       "      <td>1.0</td>\n",
       "      <td>3.0</td>\n",
       "      <td>4.0</td>\n",
       "      <td>NaN</td>\n",
       "      <td>Technical Details    Additional Information AS...</td>\n",
       "      <td>NaN</td>\n",
       "      <td>[http://www.amazon.co.uk/Storm-Trooper-Costume...</td>\n",
       "      <td>Characters &amp; Brands</td>\n",
       "      <td>Star Wars</td>\n",
       "    </tr>\n",
       "    <tr>\n",
       "      <th>9992</th>\n",
       "      <td>bf6cc073f8f24e6e338190fa16f6ee9d</td>\n",
       "      <td>Defiance Lawkeeper Metal Badge Prop Replica</td>\n",
       "      <td>2358.0</td>\n",
       "      <td>43.9</td>\n",
       "      <td>3.0</td>\n",
       "      <td>1.0</td>\n",
       "      <td>3.0</td>\n",
       "      <td>5.0</td>\n",
       "      <td>*Includes 1x Badge with holder and chain *High...</td>\n",
       "      <td>Technical Details Item Weight159 g Product Dim...</td>\n",
       "      <td>*Includes 1x Badge with holder and chain *High...</td>\n",
       "      <td>[http://www.amazon.co.uk/Olde-Scotland-Yard-Lt...</td>\n",
       "      <td>Novelty &amp; Special Use</td>\n",
       "      <td>Novelty</td>\n",
       "    </tr>\n",
       "    <tr>\n",
       "      <th>9993</th>\n",
       "      <td>cd783d0b8b44e631b9788b203eaaefae</td>\n",
       "      <td>Justice League of America Series 3 Green Lante...</td>\n",
       "      <td>180.0</td>\n",
       "      <td>49.8</td>\n",
       "      <td>3.0</td>\n",
       "      <td>1.0</td>\n",
       "      <td>3.0</td>\n",
       "      <td>5.0</td>\n",
       "      <td>Designed by Ed BenesIt's here - the third seri...</td>\n",
       "      <td>Technical Details Item Weight181 g Product Dim...</td>\n",
       "      <td>Designed by Ed BenesIt's here - the third seri...</td>\n",
       "      <td>[nan]</td>\n",
       "      <td>Hobbies</td>\n",
       "      <td>Collectible Figures &amp; Memorabilia</td>\n",
       "    </tr>\n",
       "    <tr>\n",
       "      <th>9994</th>\n",
       "      <td>94d18e86e504bee1e392df7e5738b18a</td>\n",
       "      <td>Star Wars 1/72 Y-Wing Starfighter</td>\n",
       "      <td>43.0</td>\n",
       "      <td>21.2</td>\n",
       "      <td>31.0</td>\n",
       "      <td>11.0</td>\n",
       "      <td>3.0</td>\n",
       "      <td>4.5</td>\n",
       "      <td>NaN</td>\n",
       "      <td>Technical Details Item Weight299 g Product Dim...</td>\n",
       "      <td>NaN</td>\n",
       "      <td>[nan]</td>\n",
       "      <td>Characters &amp; Brands</td>\n",
       "      <td>Star Wars</td>\n",
       "    </tr>\n",
       "  </tbody>\n",
       "</table>\n",
       "<p>9995 rows × 14 columns</p>\n",
       "</div>"
      ],
      "text/plain": [
       "                               uniq_id  \\\n",
       "0     eac7efa5dbd3d667f26eb3d3ab504464   \n",
       "1     b17540ef7e86e461d37f3ae58b7b72ac   \n",
       "2     348f344247b0c1a935b1223072ef9d8a   \n",
       "3     e12b92dbb8eaee78b22965d2a9bbbd9f   \n",
       "4     e33a9adeed5f36840ccc227db4682a36   \n",
       "...                                ...   \n",
       "9990  44d6967f083825a5de36ad4865a65bcd   \n",
       "9991  08f0747b6fc6687215ffb994c3a6fb32   \n",
       "9992  bf6cc073f8f24e6e338190fa16f6ee9d   \n",
       "9993  cd783d0b8b44e631b9788b203eaaefae   \n",
       "9994  94d18e86e504bee1e392df7e5738b18a   \n",
       "\n",
       "                                           product_name  manufacturer  price  \\\n",
       "0                                 Hornby 2014 Catalogue           0.0    3.4   \n",
       "1     FunkyBuys® Large Christmas Holiday Express Fes...           1.0   16.9   \n",
       "2     CLASSIC TOY TRAIN SET TRACK CARRIAGES LIGHT EN...           2.0    9.9   \n",
       "3        HORNBY Coach R4410A BR Hawksworth Corridor 3rd           0.0   39.9   \n",
       "4     Hornby 00 Gauge 0-4-0 Gildenlow Salt Co. Steam...           0.0   32.1   \n",
       "...                                                 ...           ...    ...   \n",
       "9990  Batman 1966 TV Series Action Figures - The Rid...          31.0   22.9   \n",
       "9991  Star Wars Costume, Kids Stormtrooper Costume S...          90.0   39.9   \n",
       "9992        Defiance Lawkeeper Metal Badge Prop Replica        2358.0   43.9   \n",
       "9993  Justice League of America Series 3 Green Lante...         180.0   49.8   \n",
       "9994                  Star Wars 1/72 Y-Wing Starfighter          43.0   21.2   \n",
       "\n",
       "      number_available_in_stock  number_of_reviews  \\\n",
       "0                           5.0               15.0   \n",
       "1                           0.0                2.0   \n",
       "2                           2.0               17.0   \n",
       "3                           0.0                1.0   \n",
       "4                           0.0                3.0   \n",
       "...                         ...                ...   \n",
       "9990                        5.0                3.0   \n",
       "9991                        0.0                1.0   \n",
       "9992                        3.0                1.0   \n",
       "9993                        3.0                1.0   \n",
       "9994                       31.0               11.0   \n",
       "\n",
       "      number_of_answered_questions  average_review_rating  \\\n",
       "0                              1.0                    4.9   \n",
       "1                              1.0                    4.5   \n",
       "2                              2.0                    3.9   \n",
       "3                              2.0                    5.0   \n",
       "4                              2.0                    4.7   \n",
       "...                            ...                    ...   \n",
       "9990                           3.0                    5.0   \n",
       "9991                           3.0                    4.0   \n",
       "9992                           3.0                    5.0   \n",
       "9993                           3.0                    5.0   \n",
       "9994                           3.0                    4.5   \n",
       "\n",
       "                                            description  \\\n",
       "0     Product Description Hornby 2014 Catalogue Box ...   \n",
       "1     Size Name:Large FunkyBuys® Large Christmas Hol...   \n",
       "2     BIG CLASSIC TOY TRAIN SET TRACK CARRIAGE LIGHT...   \n",
       "3     Hornby 00 Gauge BR Hawksworth 3rd Class W 2107...   \n",
       "4     Product Description Hornby RailRoad 0-4-0 Gild...   \n",
       "...                                                 ...   \n",
       "9990  DC 66 Batman Classic TV Series 6 Inch Riddler ...   \n",
       "9991                                                NaN   \n",
       "9992  *Includes 1x Badge with holder and chain *High...   \n",
       "9993  Designed by Ed BenesIt's here - the third seri...   \n",
       "9994                                                NaN   \n",
       "\n",
       "                                    product_information  \\\n",
       "0     Technical Details Item Weight640 g Product Dim...   \n",
       "1     Technical Details Manufacturer recommended age...   \n",
       "2     Technical Details Manufacturer recommended age...   \n",
       "3     Technical Details Item Weight259 g Product Dim...   \n",
       "4     Technical Details Item Weight159 g Product Dim...   \n",
       "...                                                 ...   \n",
       "9990  Technical Details Item Weight136 g Product Dim...   \n",
       "9991  Technical Details    Additional Information AS...   \n",
       "9992  Technical Details Item Weight159 g Product Dim...   \n",
       "9993  Technical Details Item Weight181 g Product Dim...   \n",
       "9994  Technical Details Item Weight299 g Product Dim...   \n",
       "\n",
       "                                    product_description  \\\n",
       "0     Product Description Hornby 2014 Catalogue Box ...   \n",
       "1     Size Name:Large FunkyBuys® Large Christmas Hol...   \n",
       "2     BIG CLASSIC TOY TRAIN SET TRACK CARRIAGE LIGHT...   \n",
       "3     Hornby 00 Gauge BR Hawksworth 3rd Class W 2107...   \n",
       "4     Product Description Hornby RailRoad 0-4-0 Gild...   \n",
       "...                                                 ...   \n",
       "9990  DC 66 Batman Classic TV Series 6 Inch Riddler ...   \n",
       "9991                                                NaN   \n",
       "9992  *Includes 1x Badge with holder and chain *High...   \n",
       "9993  Designed by Ed BenesIt's here - the third seri...   \n",
       "9994                                                NaN   \n",
       "\n",
       "            items_customers_buy_after_viewing_this_item  \\\n",
       "0                                          Waddingtons    \n",
       "1                                       The Creativity    \n",
       "2                               Star Comics Stationery    \n",
       "3                    Playskool Heroes Super Adventures    \n",
       "4                     Olde Scotland Yard Ltd Lawkeeper    \n",
       "...                                                 ...   \n",
       "9990                                              [nan]   \n",
       "9991  [http://www.amazon.co.uk/Storm-Trooper-Costume...   \n",
       "9992  [http://www.amazon.co.uk/Olde-Scotland-Yard-Lt...   \n",
       "9993                                              [nan]   \n",
       "9994                                              [nan]   \n",
       "\n",
       "                   category                        subcategory  \n",
       "0                   Hobbies        Model Trains & Railway Sets  \n",
       "1                   Hobbies        Model Trains & Railway Sets  \n",
       "2                   Hobbies        Model Trains & Railway Sets  \n",
       "3                   Hobbies        Model Trains & Railway Sets  \n",
       "4                   Hobbies        Model Trains & Railway Sets  \n",
       "...                     ...                                ...  \n",
       "9990                Hobbies  Collectible Figures & Memorabilia  \n",
       "9991    Characters & Brands                          Star Wars  \n",
       "9992  Novelty & Special Use                            Novelty  \n",
       "9993                Hobbies  Collectible Figures & Memorabilia  \n",
       "9994    Characters & Brands                          Star Wars  \n",
       "\n",
       "[9995 rows x 14 columns]"
      ]
     },
     "execution_count": 111,
     "metadata": {},
     "output_type": "execute_result"
    }
   ],
   "source": [
    "df"
   ]
  }
 ],
 "metadata": {
  "kernelspec": {
   "display_name": "Python 3 (ipykernel)",
   "language": "python",
   "name": "python3"
  },
  "language_info": {
   "codemirror_mode": {
    "name": "ipython",
    "version": 3
   },
   "file_extension": ".py",
   "mimetype": "text/x-python",
   "name": "python",
   "nbconvert_exporter": "python",
   "pygments_lexer": "ipython3",
   "version": "3.10.9"
  }
 },
 "nbformat": 4,
 "nbformat_minor": 5
}
